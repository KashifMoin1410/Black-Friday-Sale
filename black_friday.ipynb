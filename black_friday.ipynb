{
 "cells": [
  {
   "cell_type": "markdown",
   "id": "98b83788",
   "metadata": {
    "id": "98b83788"
   },
   "source": [
    "# Black Friday\n"
   ]
  },
  {
   "cell_type": "code",
   "execution_count": 1,
   "id": "22524c14",
   "metadata": {
    "id": "22524c14"
   },
   "outputs": [],
   "source": [
    "import math\n",
    "import pandas as pd\n",
    "import numpy as np\n",
    "import warnings\n",
    "import seaborn as sns\n",
    "import matplotlib.pyplot as plt\n",
    "import plotly.express as px\n",
    "warnings.filterwarnings(\"ignore\")\n",
    "from sklearn.metrics import r2_score\n",
    "from sklearn.metrics import mean_squared_error\n",
    "from sklearn.feature_selection import chi2\n",
    "from sklearn.feature_selection import SelectKBest\n",
    "from sklearn.model_selection import train_test_split"
   ]
  },
  {
   "cell_type": "markdown",
   "id": "54a62887",
   "metadata": {
    "id": "54a62887"
   },
   "source": [
    "### Store the dataset into DataFrame"
   ]
  },
  {
   "cell_type": "code",
   "execution_count": 2,
   "id": "8a238ed6",
   "metadata": {
    "id": "8a238ed6"
   },
   "outputs": [],
   "source": [
    "df=pd.read_csv(\"train.csv\")"
   ]
  },
  {
   "cell_type": "markdown",
   "id": "cd60d683",
   "metadata": {
    "id": "cd60d683"
   },
   "source": [
    "### DataFrame related Information"
   ]
  },
  {
   "cell_type": "code",
   "execution_count": 3,
   "id": "3fa16509",
   "metadata": {
    "colab": {
     "base_uri": "https://localhost:8080/"
    },
    "id": "3fa16509",
    "outputId": "0211d757-afee-4939-8495-d2cda6b77a08"
   },
   "outputs": [
    {
     "data": {
      "text/plain": [
       "(550068, 12)"
      ]
     },
     "execution_count": 3,
     "metadata": {},
     "output_type": "execute_result"
    }
   ],
   "source": [
    "df.shape"
   ]
  },
  {
   "cell_type": "code",
   "execution_count": 4,
   "id": "3930e95d",
   "metadata": {
    "colab": {
     "base_uri": "https://localhost:8080/"
    },
    "id": "3930e95d",
    "outputId": "94d5b097-135c-45ef-dd85-5867b75a15f7"
   },
   "outputs": [
    {
     "data": {
      "text/plain": [
       "Index(['User_ID', 'Product_ID', 'Gender', 'Age', 'Occupation', 'City_Category',\n",
       "       'Stay_In_Current_City_Years', 'Marital_Status', 'Product_Category_1',\n",
       "       'Product_Category_2', 'Product_Category_3', 'Purchase'],\n",
       "      dtype='object')"
      ]
     },
     "execution_count": 4,
     "metadata": {},
     "output_type": "execute_result"
    }
   ],
   "source": [
    "df.columns"
   ]
  },
  {
   "cell_type": "code",
   "execution_count": 5,
   "id": "973ab1b9",
   "metadata": {
    "colab": {
     "base_uri": "https://localhost:8080/",
     "height": 300
    },
    "id": "973ab1b9",
    "outputId": "92c12680-cb31-4259-c314-eef802f4343d"
   },
   "outputs": [
    {
     "data": {
      "text/html": [
       "<div>\n",
       "<style scoped>\n",
       "    .dataframe tbody tr th:only-of-type {\n",
       "        vertical-align: middle;\n",
       "    }\n",
       "\n",
       "    .dataframe tbody tr th {\n",
       "        vertical-align: top;\n",
       "    }\n",
       "\n",
       "    .dataframe thead th {\n",
       "        text-align: right;\n",
       "    }\n",
       "</style>\n",
       "<table border=\"1\" class=\"dataframe\">\n",
       "  <thead>\n",
       "    <tr style=\"text-align: right;\">\n",
       "      <th></th>\n",
       "      <th>User_ID</th>\n",
       "      <th>Occupation</th>\n",
       "      <th>Marital_Status</th>\n",
       "      <th>Product_Category_1</th>\n",
       "      <th>Product_Category_2</th>\n",
       "      <th>Product_Category_3</th>\n",
       "      <th>Purchase</th>\n",
       "    </tr>\n",
       "  </thead>\n",
       "  <tbody>\n",
       "    <tr>\n",
       "      <th>count</th>\n",
       "      <td>5.500680e+05</td>\n",
       "      <td>550068.000000</td>\n",
       "      <td>550068.000000</td>\n",
       "      <td>550068.000000</td>\n",
       "      <td>376430.000000</td>\n",
       "      <td>166821.000000</td>\n",
       "      <td>550068.000000</td>\n",
       "    </tr>\n",
       "    <tr>\n",
       "      <th>mean</th>\n",
       "      <td>1.003029e+06</td>\n",
       "      <td>8.076707</td>\n",
       "      <td>0.409653</td>\n",
       "      <td>5.404270</td>\n",
       "      <td>9.842329</td>\n",
       "      <td>12.668243</td>\n",
       "      <td>9263.968713</td>\n",
       "    </tr>\n",
       "    <tr>\n",
       "      <th>std</th>\n",
       "      <td>1.727592e+03</td>\n",
       "      <td>6.522660</td>\n",
       "      <td>0.491770</td>\n",
       "      <td>3.936211</td>\n",
       "      <td>5.086590</td>\n",
       "      <td>4.125338</td>\n",
       "      <td>5023.065394</td>\n",
       "    </tr>\n",
       "    <tr>\n",
       "      <th>min</th>\n",
       "      <td>1.000001e+06</td>\n",
       "      <td>0.000000</td>\n",
       "      <td>0.000000</td>\n",
       "      <td>1.000000</td>\n",
       "      <td>2.000000</td>\n",
       "      <td>3.000000</td>\n",
       "      <td>12.000000</td>\n",
       "    </tr>\n",
       "    <tr>\n",
       "      <th>25%</th>\n",
       "      <td>1.001516e+06</td>\n",
       "      <td>2.000000</td>\n",
       "      <td>0.000000</td>\n",
       "      <td>1.000000</td>\n",
       "      <td>5.000000</td>\n",
       "      <td>9.000000</td>\n",
       "      <td>5823.000000</td>\n",
       "    </tr>\n",
       "    <tr>\n",
       "      <th>50%</th>\n",
       "      <td>1.003077e+06</td>\n",
       "      <td>7.000000</td>\n",
       "      <td>0.000000</td>\n",
       "      <td>5.000000</td>\n",
       "      <td>9.000000</td>\n",
       "      <td>14.000000</td>\n",
       "      <td>8047.000000</td>\n",
       "    </tr>\n",
       "    <tr>\n",
       "      <th>75%</th>\n",
       "      <td>1.004478e+06</td>\n",
       "      <td>14.000000</td>\n",
       "      <td>1.000000</td>\n",
       "      <td>8.000000</td>\n",
       "      <td>15.000000</td>\n",
       "      <td>16.000000</td>\n",
       "      <td>12054.000000</td>\n",
       "    </tr>\n",
       "    <tr>\n",
       "      <th>max</th>\n",
       "      <td>1.006040e+06</td>\n",
       "      <td>20.000000</td>\n",
       "      <td>1.000000</td>\n",
       "      <td>20.000000</td>\n",
       "      <td>18.000000</td>\n",
       "      <td>18.000000</td>\n",
       "      <td>23961.000000</td>\n",
       "    </tr>\n",
       "  </tbody>\n",
       "</table>\n",
       "</div>"
      ],
      "text/plain": [
       "            User_ID     Occupation  Marital_Status  Product_Category_1  \\\n",
       "count  5.500680e+05  550068.000000   550068.000000       550068.000000   \n",
       "mean   1.003029e+06       8.076707        0.409653            5.404270   \n",
       "std    1.727592e+03       6.522660        0.491770            3.936211   \n",
       "min    1.000001e+06       0.000000        0.000000            1.000000   \n",
       "25%    1.001516e+06       2.000000        0.000000            1.000000   \n",
       "50%    1.003077e+06       7.000000        0.000000            5.000000   \n",
       "75%    1.004478e+06      14.000000        1.000000            8.000000   \n",
       "max    1.006040e+06      20.000000        1.000000           20.000000   \n",
       "\n",
       "       Product_Category_2  Product_Category_3       Purchase  \n",
       "count       376430.000000       166821.000000  550068.000000  \n",
       "mean             9.842329           12.668243    9263.968713  \n",
       "std              5.086590            4.125338    5023.065394  \n",
       "min              2.000000            3.000000      12.000000  \n",
       "25%              5.000000            9.000000    5823.000000  \n",
       "50%              9.000000           14.000000    8047.000000  \n",
       "75%             15.000000           16.000000   12054.000000  \n",
       "max             18.000000           18.000000   23961.000000  "
      ]
     },
     "execution_count": 5,
     "metadata": {},
     "output_type": "execute_result"
    }
   ],
   "source": [
    "df.describe()"
   ]
  },
  {
   "cell_type": "code",
   "execution_count": 6,
   "id": "75081030",
   "metadata": {
    "colab": {
     "base_uri": "https://localhost:8080/"
    },
    "id": "75081030",
    "outputId": "8bb75322-2992-449f-c533-6115dcd3d415"
   },
   "outputs": [
    {
     "name": "stdout",
     "output_type": "stream",
     "text": [
      "<class 'pandas.core.frame.DataFrame'>\n",
      "RangeIndex: 550068 entries, 0 to 550067\n",
      "Data columns (total 12 columns):\n",
      " #   Column                      Non-Null Count   Dtype  \n",
      "---  ------                      --------------   -----  \n",
      " 0   User_ID                     550068 non-null  int64  \n",
      " 1   Product_ID                  550068 non-null  object \n",
      " 2   Gender                      550068 non-null  object \n",
      " 3   Age                         550068 non-null  object \n",
      " 4   Occupation                  550068 non-null  int64  \n",
      " 5   City_Category               550068 non-null  object \n",
      " 6   Stay_In_Current_City_Years  550068 non-null  object \n",
      " 7   Marital_Status              550068 non-null  int64  \n",
      " 8   Product_Category_1          550068 non-null  int64  \n",
      " 9   Product_Category_2          376430 non-null  float64\n",
      " 10  Product_Category_3          166821 non-null  float64\n",
      " 11  Purchase                    550068 non-null  int64  \n",
      "dtypes: float64(2), int64(5), object(5)\n",
      "memory usage: 50.4+ MB\n"
     ]
    }
   ],
   "source": [
    "df.info()"
   ]
  },
  {
   "cell_type": "markdown",
   "id": "4a95a1d3",
   "metadata": {
    "id": "4a95a1d3"
   },
   "source": [
    "### Data Cleaning"
   ]
  },
  {
   "cell_type": "code",
   "execution_count": 7,
   "id": "65c745a3",
   "metadata": {
    "colab": {
     "base_uri": "https://localhost:8080/",
     "height": 340
    },
    "id": "65c745a3",
    "outputId": "4a5a9e18-30b5-4f79-cd11-25dd09977caf"
   },
   "outputs": [
    {
     "data": {
      "text/html": [
       "<div>\n",
       "<style scoped>\n",
       "    .dataframe tbody tr th:only-of-type {\n",
       "        vertical-align: middle;\n",
       "    }\n",
       "\n",
       "    .dataframe tbody tr th {\n",
       "        vertical-align: top;\n",
       "    }\n",
       "\n",
       "    .dataframe thead th {\n",
       "        text-align: right;\n",
       "    }\n",
       "</style>\n",
       "<table border=\"1\" class=\"dataframe\">\n",
       "  <thead>\n",
       "    <tr style=\"text-align: right;\">\n",
       "      <th></th>\n",
       "      <th>User_ID</th>\n",
       "      <th>Product_ID</th>\n",
       "      <th>Gender</th>\n",
       "      <th>Age</th>\n",
       "      <th>Occupation</th>\n",
       "      <th>City_Category</th>\n",
       "      <th>Stay_In_Current_City_Years</th>\n",
       "      <th>Marital_Status</th>\n",
       "      <th>Product_Category_1</th>\n",
       "      <th>Product_Category_2</th>\n",
       "      <th>Product_Category_3</th>\n",
       "      <th>Purchase</th>\n",
       "    </tr>\n",
       "  </thead>\n",
       "  <tbody>\n",
       "    <tr>\n",
       "      <th>0</th>\n",
       "      <td>1000001</td>\n",
       "      <td>P00069042</td>\n",
       "      <td>F</td>\n",
       "      <td>0-17</td>\n",
       "      <td>10</td>\n",
       "      <td>A</td>\n",
       "      <td>2</td>\n",
       "      <td>0</td>\n",
       "      <td>3</td>\n",
       "      <td>NaN</td>\n",
       "      <td>NaN</td>\n",
       "      <td>8370</td>\n",
       "    </tr>\n",
       "    <tr>\n",
       "      <th>1</th>\n",
       "      <td>1000001</td>\n",
       "      <td>P00248942</td>\n",
       "      <td>F</td>\n",
       "      <td>0-17</td>\n",
       "      <td>10</td>\n",
       "      <td>A</td>\n",
       "      <td>2</td>\n",
       "      <td>0</td>\n",
       "      <td>1</td>\n",
       "      <td>6.0</td>\n",
       "      <td>14.0</td>\n",
       "      <td>15200</td>\n",
       "    </tr>\n",
       "    <tr>\n",
       "      <th>2</th>\n",
       "      <td>1000001</td>\n",
       "      <td>P00087842</td>\n",
       "      <td>F</td>\n",
       "      <td>0-17</td>\n",
       "      <td>10</td>\n",
       "      <td>A</td>\n",
       "      <td>2</td>\n",
       "      <td>0</td>\n",
       "      <td>12</td>\n",
       "      <td>NaN</td>\n",
       "      <td>NaN</td>\n",
       "      <td>1422</td>\n",
       "    </tr>\n",
       "    <tr>\n",
       "      <th>3</th>\n",
       "      <td>1000001</td>\n",
       "      <td>P00085442</td>\n",
       "      <td>F</td>\n",
       "      <td>0-17</td>\n",
       "      <td>10</td>\n",
       "      <td>A</td>\n",
       "      <td>2</td>\n",
       "      <td>0</td>\n",
       "      <td>12</td>\n",
       "      <td>14.0</td>\n",
       "      <td>NaN</td>\n",
       "      <td>1057</td>\n",
       "    </tr>\n",
       "    <tr>\n",
       "      <th>4</th>\n",
       "      <td>1000002</td>\n",
       "      <td>P00285442</td>\n",
       "      <td>M</td>\n",
       "      <td>55+</td>\n",
       "      <td>16</td>\n",
       "      <td>C</td>\n",
       "      <td>4+</td>\n",
       "      <td>0</td>\n",
       "      <td>8</td>\n",
       "      <td>NaN</td>\n",
       "      <td>NaN</td>\n",
       "      <td>7969</td>\n",
       "    </tr>\n",
       "  </tbody>\n",
       "</table>\n",
       "</div>"
      ],
      "text/plain": [
       "   User_ID Product_ID Gender   Age  Occupation City_Category  \\\n",
       "0  1000001  P00069042      F  0-17          10             A   \n",
       "1  1000001  P00248942      F  0-17          10             A   \n",
       "2  1000001  P00087842      F  0-17          10             A   \n",
       "3  1000001  P00085442      F  0-17          10             A   \n",
       "4  1000002  P00285442      M   55+          16             C   \n",
       "\n",
       "  Stay_In_Current_City_Years  Marital_Status  Product_Category_1  \\\n",
       "0                          2               0                   3   \n",
       "1                          2               0                   1   \n",
       "2                          2               0                  12   \n",
       "3                          2               0                  12   \n",
       "4                         4+               0                   8   \n",
       "\n",
       "   Product_Category_2  Product_Category_3  Purchase  \n",
       "0                 NaN                 NaN      8370  \n",
       "1                 6.0                14.0     15200  \n",
       "2                 NaN                 NaN      1422  \n",
       "3                14.0                 NaN      1057  \n",
       "4                 NaN                 NaN      7969  "
      ]
     },
     "execution_count": 7,
     "metadata": {},
     "output_type": "execute_result"
    }
   ],
   "source": [
    "df.head()"
   ]
  },
  {
   "cell_type": "markdown",
   "id": "4ac24e52",
   "metadata": {
    "id": "4ac24e52"
   },
   "source": [
    "### Null Values"
   ]
  },
  {
   "cell_type": "code",
   "execution_count": 8,
   "id": "fc97ed79",
   "metadata": {
    "colab": {
     "base_uri": "https://localhost:8080/"
    },
    "id": "fc97ed79",
    "outputId": "ce38dee9-742d-4b68-cade-19822f3aaf89"
   },
   "outputs": [
    {
     "data": {
      "text/plain": [
       "User_ID                        0.000000\n",
       "Product_ID                     0.000000\n",
       "Gender                         0.000000\n",
       "Age                            0.000000\n",
       "Occupation                     0.000000\n",
       "City_Category                  0.000000\n",
       "Stay_In_Current_City_Years     0.000000\n",
       "Marital_Status                 0.000000\n",
       "Product_Category_1             0.000000\n",
       "Product_Category_2            31.566643\n",
       "Product_Category_3            69.672659\n",
       "Purchase                       0.000000\n",
       "dtype: float64"
      ]
     },
     "execution_count": 8,
     "metadata": {},
     "output_type": "execute_result"
    }
   ],
   "source": [
    "(df.isnull().mean())*100"
   ]
  },
  {
   "cell_type": "markdown",
   "id": "edd8c044",
   "metadata": {
    "id": "edd8c044"
   },
   "source": [
    "### Dropping Product_Category_3\n",
    "#### This feature had 70 null data. "
   ]
  },
  {
   "cell_type": "code",
   "execution_count": 9,
   "id": "7713d171",
   "metadata": {
    "colab": {
     "base_uri": "https://localhost:8080/",
     "height": 340
    },
    "id": "7713d171",
    "outputId": "ff399123-03a9-4c65-ad47-db735d342b96"
   },
   "outputs": [
    {
     "data": {
      "text/html": [
       "<div>\n",
       "<style scoped>\n",
       "    .dataframe tbody tr th:only-of-type {\n",
       "        vertical-align: middle;\n",
       "    }\n",
       "\n",
       "    .dataframe tbody tr th {\n",
       "        vertical-align: top;\n",
       "    }\n",
       "\n",
       "    .dataframe thead th {\n",
       "        text-align: right;\n",
       "    }\n",
       "</style>\n",
       "<table border=\"1\" class=\"dataframe\">\n",
       "  <thead>\n",
       "    <tr style=\"text-align: right;\">\n",
       "      <th></th>\n",
       "      <th>User_ID</th>\n",
       "      <th>Product_ID</th>\n",
       "      <th>Gender</th>\n",
       "      <th>Age</th>\n",
       "      <th>Occupation</th>\n",
       "      <th>City_Category</th>\n",
       "      <th>Stay_In_Current_City_Years</th>\n",
       "      <th>Marital_Status</th>\n",
       "      <th>Product_Category_1</th>\n",
       "      <th>Product_Category_2</th>\n",
       "      <th>Purchase</th>\n",
       "    </tr>\n",
       "  </thead>\n",
       "  <tbody>\n",
       "    <tr>\n",
       "      <th>0</th>\n",
       "      <td>1000001</td>\n",
       "      <td>P00069042</td>\n",
       "      <td>F</td>\n",
       "      <td>0-17</td>\n",
       "      <td>10</td>\n",
       "      <td>A</td>\n",
       "      <td>2</td>\n",
       "      <td>0</td>\n",
       "      <td>3</td>\n",
       "      <td>NaN</td>\n",
       "      <td>8370</td>\n",
       "    </tr>\n",
       "    <tr>\n",
       "      <th>1</th>\n",
       "      <td>1000001</td>\n",
       "      <td>P00248942</td>\n",
       "      <td>F</td>\n",
       "      <td>0-17</td>\n",
       "      <td>10</td>\n",
       "      <td>A</td>\n",
       "      <td>2</td>\n",
       "      <td>0</td>\n",
       "      <td>1</td>\n",
       "      <td>6.0</td>\n",
       "      <td>15200</td>\n",
       "    </tr>\n",
       "    <tr>\n",
       "      <th>2</th>\n",
       "      <td>1000001</td>\n",
       "      <td>P00087842</td>\n",
       "      <td>F</td>\n",
       "      <td>0-17</td>\n",
       "      <td>10</td>\n",
       "      <td>A</td>\n",
       "      <td>2</td>\n",
       "      <td>0</td>\n",
       "      <td>12</td>\n",
       "      <td>NaN</td>\n",
       "      <td>1422</td>\n",
       "    </tr>\n",
       "    <tr>\n",
       "      <th>3</th>\n",
       "      <td>1000001</td>\n",
       "      <td>P00085442</td>\n",
       "      <td>F</td>\n",
       "      <td>0-17</td>\n",
       "      <td>10</td>\n",
       "      <td>A</td>\n",
       "      <td>2</td>\n",
       "      <td>0</td>\n",
       "      <td>12</td>\n",
       "      <td>14.0</td>\n",
       "      <td>1057</td>\n",
       "    </tr>\n",
       "    <tr>\n",
       "      <th>4</th>\n",
       "      <td>1000002</td>\n",
       "      <td>P00285442</td>\n",
       "      <td>M</td>\n",
       "      <td>55+</td>\n",
       "      <td>16</td>\n",
       "      <td>C</td>\n",
       "      <td>4+</td>\n",
       "      <td>0</td>\n",
       "      <td>8</td>\n",
       "      <td>NaN</td>\n",
       "      <td>7969</td>\n",
       "    </tr>\n",
       "  </tbody>\n",
       "</table>\n",
       "</div>"
      ],
      "text/plain": [
       "   User_ID Product_ID Gender   Age  Occupation City_Category  \\\n",
       "0  1000001  P00069042      F  0-17          10             A   \n",
       "1  1000001  P00248942      F  0-17          10             A   \n",
       "2  1000001  P00087842      F  0-17          10             A   \n",
       "3  1000001  P00085442      F  0-17          10             A   \n",
       "4  1000002  P00285442      M   55+          16             C   \n",
       "\n",
       "  Stay_In_Current_City_Years  Marital_Status  Product_Category_1  \\\n",
       "0                          2               0                   3   \n",
       "1                          2               0                   1   \n",
       "2                          2               0                  12   \n",
       "3                          2               0                  12   \n",
       "4                         4+               0                   8   \n",
       "\n",
       "   Product_Category_2  Purchase  \n",
       "0                 NaN      8370  \n",
       "1                 6.0     15200  \n",
       "2                 NaN      1422  \n",
       "3                14.0      1057  \n",
       "4                 NaN      7969  "
      ]
     },
     "execution_count": 9,
     "metadata": {},
     "output_type": "execute_result"
    }
   ],
   "source": [
    "df.drop(['Product_Category_3'],axis=1,inplace=True)\n",
    "df.head()"
   ]
  },
  {
   "cell_type": "code",
   "execution_count": 10,
   "id": "afc6c82d",
   "metadata": {
    "id": "afc6c82d"
   },
   "outputs": [],
   "source": [
    "df[['Product_Category_2']]=df[['Product_Category_2']].replace(np.NAN,0.0)"
   ]
  },
  {
   "cell_type": "code",
   "execution_count": 11,
   "id": "dcf87442",
   "metadata": {
    "colab": {
     "base_uri": "https://localhost:8080/"
    },
    "id": "dcf87442",
    "outputId": "fa2e7e4a-3233-4ecf-9311-1b5dad17b81c"
   },
   "outputs": [
    {
     "data": {
      "text/plain": [
       "User_ID                       0.0\n",
       "Product_ID                    0.0\n",
       "Gender                        0.0\n",
       "Age                           0.0\n",
       "Occupation                    0.0\n",
       "City_Category                 0.0\n",
       "Stay_In_Current_City_Years    0.0\n",
       "Marital_Status                0.0\n",
       "Product_Category_1            0.0\n",
       "Product_Category_2            0.0\n",
       "Purchase                      0.0\n",
       "dtype: float64"
      ]
     },
     "execution_count": 11,
     "metadata": {},
     "output_type": "execute_result"
    }
   ],
   "source": [
    "(df.isnull().mean())*100"
   ]
  },
  {
   "cell_type": "markdown",
   "id": "378b1c76",
   "metadata": {
    "id": "378b1c76"
   },
   "source": [
    "#### Now, our DataFrame is free of NULL values."
   ]
  },
  {
   "cell_type": "markdown",
   "id": "71c1c5b2",
   "metadata": {
    "id": "71c1c5b2"
   },
   "source": [
    "### Duplicate Data"
   ]
  },
  {
   "cell_type": "code",
   "execution_count": 12,
   "id": "3af1137f",
   "metadata": {
    "colab": {
     "base_uri": "https://localhost:8080/",
     "height": 0
    },
    "id": "3af1137f",
    "outputId": "bf308fc7-bd07-4290-ee4e-82701e2f7d9e"
   },
   "outputs": [
    {
     "data": {
      "text/html": [
       "<div>\n",
       "<style scoped>\n",
       "    .dataframe tbody tr th:only-of-type {\n",
       "        vertical-align: middle;\n",
       "    }\n",
       "\n",
       "    .dataframe tbody tr th {\n",
       "        vertical-align: top;\n",
       "    }\n",
       "\n",
       "    .dataframe thead th {\n",
       "        text-align: right;\n",
       "    }\n",
       "</style>\n",
       "<table border=\"1\" class=\"dataframe\">\n",
       "  <thead>\n",
       "    <tr style=\"text-align: right;\">\n",
       "      <th></th>\n",
       "      <th>User_ID</th>\n",
       "      <th>Product_ID</th>\n",
       "      <th>Gender</th>\n",
       "      <th>Age</th>\n",
       "      <th>Occupation</th>\n",
       "      <th>City_Category</th>\n",
       "      <th>Stay_In_Current_City_Years</th>\n",
       "      <th>Marital_Status</th>\n",
       "      <th>Product_Category_1</th>\n",
       "      <th>Product_Category_2</th>\n",
       "      <th>Purchase</th>\n",
       "    </tr>\n",
       "  </thead>\n",
       "  <tbody>\n",
       "  </tbody>\n",
       "</table>\n",
       "</div>"
      ],
      "text/plain": [
       "Empty DataFrame\n",
       "Columns: [User_ID, Product_ID, Gender, Age, Occupation, City_Category, Stay_In_Current_City_Years, Marital_Status, Product_Category_1, Product_Category_2, Purchase]\n",
       "Index: []"
      ]
     },
     "execution_count": 12,
     "metadata": {},
     "output_type": "execute_result"
    }
   ],
   "source": [
    "df[df.duplicated(keep=False)]"
   ]
  },
  {
   "cell_type": "code",
   "execution_count": 13,
   "id": "3829d0d7",
   "metadata": {
    "colab": {
     "base_uri": "https://localhost:8080/"
    },
    "id": "3829d0d7",
    "outputId": "51148fab-4f60-4913-dff7-fbce71b1db91"
   },
   "outputs": [
    {
     "data": {
      "text/plain": [
       "0"
      ]
     },
     "execution_count": 13,
     "metadata": {},
     "output_type": "execute_result"
    }
   ],
   "source": [
    "len(df[df.duplicated(keep=False)])"
   ]
  },
  {
   "cell_type": "markdown",
   "id": "917eccda",
   "metadata": {
    "id": "917eccda"
   },
   "source": [
    "#### There is no duplicate data in our DataFrame."
   ]
  },
  {
   "cell_type": "markdown",
   "id": "c74395d2",
   "metadata": {
    "id": "c74395d2"
   },
   "source": [
    "### Correlation Table"
   ]
  },
  {
   "cell_type": "code",
   "execution_count": 14,
   "id": "e5152de8",
   "metadata": {
    "colab": {
     "base_uri": "https://localhost:8080/",
     "height": 0
    },
    "id": "e5152de8",
    "outputId": "cb50c9cb-4259-4286-d43d-c04f77f58ff1"
   },
   "outputs": [
    {
     "data": {
      "text/html": [
       "<div>\n",
       "<style scoped>\n",
       "    .dataframe tbody tr th:only-of-type {\n",
       "        vertical-align: middle;\n",
       "    }\n",
       "\n",
       "    .dataframe tbody tr th {\n",
       "        vertical-align: top;\n",
       "    }\n",
       "\n",
       "    .dataframe thead th {\n",
       "        text-align: right;\n",
       "    }\n",
       "</style>\n",
       "<table border=\"1\" class=\"dataframe\">\n",
       "  <thead>\n",
       "    <tr style=\"text-align: right;\">\n",
       "      <th></th>\n",
       "      <th>User_ID</th>\n",
       "      <th>Occupation</th>\n",
       "      <th>Marital_Status</th>\n",
       "      <th>Product_Category_1</th>\n",
       "      <th>Product_Category_2</th>\n",
       "      <th>Purchase</th>\n",
       "    </tr>\n",
       "  </thead>\n",
       "  <tbody>\n",
       "    <tr>\n",
       "      <th>User_ID</th>\n",
       "      <td>1.000000</td>\n",
       "      <td>-0.023971</td>\n",
       "      <td>0.020443</td>\n",
       "      <td>0.003825</td>\n",
       "      <td>0.003896</td>\n",
       "      <td>0.004716</td>\n",
       "    </tr>\n",
       "    <tr>\n",
       "      <th>Occupation</th>\n",
       "      <td>-0.023971</td>\n",
       "      <td>1.000000</td>\n",
       "      <td>0.024280</td>\n",
       "      <td>-0.007618</td>\n",
       "      <td>0.006712</td>\n",
       "      <td>0.020833</td>\n",
       "    </tr>\n",
       "    <tr>\n",
       "      <th>Marital_Status</th>\n",
       "      <td>0.020443</td>\n",
       "      <td>0.024280</td>\n",
       "      <td>1.000000</td>\n",
       "      <td>0.019888</td>\n",
       "      <td>0.001099</td>\n",
       "      <td>-0.000463</td>\n",
       "    </tr>\n",
       "    <tr>\n",
       "      <th>Product_Category_1</th>\n",
       "      <td>0.003825</td>\n",
       "      <td>-0.007618</td>\n",
       "      <td>0.019888</td>\n",
       "      <td>1.000000</td>\n",
       "      <td>-0.067877</td>\n",
       "      <td>-0.343703</td>\n",
       "    </tr>\n",
       "    <tr>\n",
       "      <th>Product_Category_2</th>\n",
       "      <td>0.003896</td>\n",
       "      <td>0.006712</td>\n",
       "      <td>0.001099</td>\n",
       "      <td>-0.067877</td>\n",
       "      <td>1.000000</td>\n",
       "      <td>0.052288</td>\n",
       "    </tr>\n",
       "    <tr>\n",
       "      <th>Purchase</th>\n",
       "      <td>0.004716</td>\n",
       "      <td>0.020833</td>\n",
       "      <td>-0.000463</td>\n",
       "      <td>-0.343703</td>\n",
       "      <td>0.052288</td>\n",
       "      <td>1.000000</td>\n",
       "    </tr>\n",
       "  </tbody>\n",
       "</table>\n",
       "</div>"
      ],
      "text/plain": [
       "                     User_ID  Occupation  Marital_Status  Product_Category_1  \\\n",
       "User_ID             1.000000   -0.023971        0.020443            0.003825   \n",
       "Occupation         -0.023971    1.000000        0.024280           -0.007618   \n",
       "Marital_Status      0.020443    0.024280        1.000000            0.019888   \n",
       "Product_Category_1  0.003825   -0.007618        0.019888            1.000000   \n",
       "Product_Category_2  0.003896    0.006712        0.001099           -0.067877   \n",
       "Purchase            0.004716    0.020833       -0.000463           -0.343703   \n",
       "\n",
       "                    Product_Category_2  Purchase  \n",
       "User_ID                       0.003896  0.004716  \n",
       "Occupation                    0.006712  0.020833  \n",
       "Marital_Status                0.001099 -0.000463  \n",
       "Product_Category_1           -0.067877 -0.343703  \n",
       "Product_Category_2            1.000000  0.052288  \n",
       "Purchase                      0.052288  1.000000  "
      ]
     },
     "execution_count": 14,
     "metadata": {},
     "output_type": "execute_result"
    }
   ],
   "source": [
    "df.corr()"
   ]
  },
  {
   "cell_type": "markdown",
   "id": "4b406f91",
   "metadata": {
    "id": "4b406f91"
   },
   "source": [
    "#### No 2 columns are highly correlated."
   ]
  },
  {
   "cell_type": "markdown",
   "id": "ae9b7d85",
   "metadata": {
    "id": "ae9b7d85"
   },
   "source": [
    "### Data Types"
   ]
  },
  {
   "cell_type": "code",
   "execution_count": 15,
   "id": "e7030ffe",
   "metadata": {
    "colab": {
     "base_uri": "https://localhost:8080/"
    },
    "id": "e7030ffe",
    "outputId": "91dc2d98-b8ee-4a88-b822-ea73d0e3d4ba"
   },
   "outputs": [
    {
     "data": {
      "text/plain": [
       "User_ID                         int64\n",
       "Product_ID                     object\n",
       "Gender                         object\n",
       "Age                            object\n",
       "Occupation                      int64\n",
       "City_Category                  object\n",
       "Stay_In_Current_City_Years     object\n",
       "Marital_Status                  int64\n",
       "Product_Category_1              int64\n",
       "Product_Category_2            float64\n",
       "Purchase                        int64\n",
       "dtype: object"
      ]
     },
     "execution_count": 15,
     "metadata": {},
     "output_type": "execute_result"
    }
   ],
   "source": [
    "df.dtypes"
   ]
  },
  {
   "cell_type": "code",
   "execution_count": 16,
   "id": "d393cd98",
   "metadata": {
    "id": "d393cd98"
   },
   "outputs": [],
   "source": [
    "df=df.astype({'Product_Category_2':'int64'})"
   ]
  },
  {
   "cell_type": "markdown",
   "id": "71bc0ba5",
   "metadata": {},
   "source": [
    "#### Converting Product_Category_2 from float 64 to int64."
   ]
  },
  {
   "cell_type": "code",
   "execution_count": 17,
   "id": "9115e05f",
   "metadata": {
    "colab": {
     "base_uri": "https://localhost:8080/"
    },
    "id": "9115e05f",
    "outputId": "08e0bc30-ed11-46f8-eaf4-e3aa7415faea"
   },
   "outputs": [
    {
     "data": {
      "text/plain": [
       "User_ID                        int64\n",
       "Product_ID                    object\n",
       "Gender                        object\n",
       "Age                           object\n",
       "Occupation                     int64\n",
       "City_Category                 object\n",
       "Stay_In_Current_City_Years    object\n",
       "Marital_Status                 int64\n",
       "Product_Category_1             int64\n",
       "Product_Category_2             int64\n",
       "Purchase                       int64\n",
       "dtype: object"
      ]
     },
     "execution_count": 17,
     "metadata": {},
     "output_type": "execute_result"
    }
   ],
   "source": [
    "df.dtypes"
   ]
  },
  {
   "cell_type": "markdown",
   "id": "c29e8782",
   "metadata": {
    "id": "c29e8782"
   },
   "source": [
    "### Label Encoding\n",
    "#### Encoding all the feature with dtype = object"
   ]
  },
  {
   "cell_type": "code",
   "execution_count": 18,
   "id": "4914ea53",
   "metadata": {
    "id": "4914ea53"
   },
   "outputs": [],
   "source": [
    "from sklearn.preprocessing import LabelEncoder\n",
    "label_encoder = LabelEncoder()"
   ]
  },
  {
   "cell_type": "code",
   "execution_count": 19,
   "id": "240a900a",
   "metadata": {
    "id": "240a900a"
   },
   "outputs": [],
   "source": [
    "df['Product_ID'] = label_encoder.fit_transform(df['Product_ID'])\n",
    "df['Gender'] = label_encoder.fit_transform(df['Gender'])\n",
    "df['City_Category'] = label_encoder.fit_transform(df['City_Category'])\n",
    "df['Age'] = label_encoder.fit_transform(df['Age'])\n",
    "df['Stay_In_Current_City_Years'] = label_encoder.fit_transform(df['Stay_In_Current_City_Years'])"
   ]
  },
  {
   "cell_type": "markdown",
   "id": "5a747f68",
   "metadata": {
    "id": "5a747f68"
   },
   "source": [
    "### Exploratory Data Analysis"
   ]
  },
  {
   "cell_type": "code",
   "execution_count": 20,
   "id": "2b05490e",
   "metadata": {
    "colab": {
     "base_uri": "https://localhost:8080/",
     "height": 0
    },
    "id": "2b05490e",
    "outputId": "f24706ea-5aae-4819-8458-5ac2d5c265fa"
   },
   "outputs": [
    {
     "data": {
      "text/plain": [
       "<seaborn.axisgrid.FacetGrid at 0x1d944f314c0>"
      ]
     },
     "execution_count": 20,
     "metadata": {},
     "output_type": "execute_result"
    },
    {
     "data": {
      "image/png": "[encoded data removed]",
      "text/plain": [
       "<Figure size 1512x216 with 7 Axes>"
      ]
     },
     "metadata": {
      "needs_background": "light"
     },
     "output_type": "display_data"
    }
   ],
   "source": [
    "pl = sns.FacetGrid(df, col=\"Age\")\n",
    "pl.map(sns.barplot, \"Gender\", \"Purchase\", hue=df.Gender)"
   ]
  },
  {
   "cell_type": "markdown",
   "id": "988bc1a3",
   "metadata": {},
   "source": [
    "#### Bar plot showing customers who have either purchased or not based on their gender and age."
   ]
  },
  {
   "cell_type": "code",
   "execution_count": 21,
   "id": "d591e715",
   "metadata": {
    "colab": {
     "base_uri": "https://localhost:8080/",
     "height": 0
    },
    "id": "d591e715",
    "outputId": "ff904512-cccf-4432-d3d4-245601fea461"
   },
   "outputs": [
    {
     "data": {
      "text/plain": [
       "<seaborn.axisgrid.FacetGrid at 0x1d944f313d0>"
      ]
     },
     "execution_count": 21,
     "metadata": {},
     "output_type": "execute_result"
    },
    {
     "data": {
      "image/png": "[encoded data removed]",
      "text/plain": [
       "<Figure size 1080x216 with 5 Axes>"
      ]
     },
     "metadata": {
      "needs_background": "light"
     },
     "output_type": "display_data"
    }
   ],
   "source": [
    "pl = sns.FacetGrid(df, col=\"Stay_In_Current_City_Years\")\n",
    "pl.map(sns.barplot, \"Gender\", \"Purchase\", hue=df.Gender)"
   ]
  },
  {
   "cell_type": "markdown",
   "id": "330fb0db",
   "metadata": {},
   "source": [
    "#### Bar plot showing customers who have either purchased or not based on their gender and their Stay In Current City Years."
   ]
  },
  {
   "cell_type": "code",
   "execution_count": 22,
   "id": "626eaf71",
   "metadata": {
    "colab": {
     "base_uri": "https://localhost:8080/",
     "height": 0
    },
    "id": "626eaf71",
    "outputId": "be9a3aeb-8601-4a9f-e5d5-2687749e3d59"
   },
   "outputs": [
    {
     "data": {
      "image/png": "[encoded data removed]",
      "text/plain": [
       "<Figure size 1440x720 with 1 Axes>"
      ]
     },
     "metadata": {
      "needs_background": "light"
     },
     "output_type": "display_data"
    }
   ],
   "source": [
    "plt.subplots(figsize=(20,10))\n",
    "sns.distplot(x = df.Purchase)\n",
    "plt.show()"
   ]
  },
  {
   "cell_type": "markdown",
   "id": "f018e820",
   "metadata": {},
   "source": [
    "#### Looking at the graph, our data is slightly right skewed"
   ]
  },
  {
   "cell_type": "code",
   "execution_count": 23,
   "id": "4dc3e612",
   "metadata": {
    "colab": {
     "base_uri": "https://localhost:8080/"
    },
    "id": "4dc3e612",
    "outputId": "f5b0110c-fbed-4d17-c8e3-9752e5203866"
   },
   "outputs": [
    {
     "data": {
      "text/plain": [
       "0.6001400037087128"
      ]
     },
     "execution_count": 23,
     "metadata": {},
     "output_type": "execute_result"
    }
   ],
   "source": [
    "df.Purchase.skew()"
   ]
  },
  {
   "cell_type": "code",
   "execution_count": 24,
   "id": "978c4dd3",
   "metadata": {
    "colab": {
     "base_uri": "https://localhost:8080/"
    },
    "id": "978c4dd3",
    "outputId": "2b683970-352a-4629-fd2a-32b5f9d3cc33"
   },
   "outputs": [
    {
     "data": {
      "text/plain": [
       "-0.3383775655851702"
      ]
     },
     "execution_count": 24,
     "metadata": {},
     "output_type": "execute_result"
    }
   ],
   "source": [
    "df[\"Purchase\"].kurtosis()"
   ]
  },
  {
   "cell_type": "markdown",
   "id": "f64835a0",
   "metadata": {
    "id": "f64835a0"
   },
   "source": [
    "#### Looking at the graph we can say Purchase is right skewed"
   ]
  },
  {
   "cell_type": "markdown",
   "id": "21c60b97",
   "metadata": {
    "id": "21c60b97"
   },
   "source": [
    "### Feature Engineering"
   ]
  },
  {
   "cell_type": "code",
   "execution_count": 25,
   "id": "e31f6a63",
   "metadata": {
    "colab": {
     "base_uri": "https://localhost:8080/",
     "height": 340
    },
    "id": "e31f6a63",
    "outputId": "9ec71fcf-3999-4252-900c-411fa8b34b23"
   },
   "outputs": [
    {
     "data": {
      "text/html": [
       "<div>\n",
       "<style scoped>\n",
       "    .dataframe tbody tr th:only-of-type {\n",
       "        vertical-align: middle;\n",
       "    }\n",
       "\n",
       "    .dataframe tbody tr th {\n",
       "        vertical-align: top;\n",
       "    }\n",
       "\n",
       "    .dataframe thead th {\n",
       "        text-align: right;\n",
       "    }\n",
       "</style>\n",
       "<table border=\"1\" class=\"dataframe\">\n",
       "  <thead>\n",
       "    <tr style=\"text-align: right;\">\n",
       "      <th></th>\n",
       "      <th>User_ID</th>\n",
       "      <th>Product_ID</th>\n",
       "      <th>Gender</th>\n",
       "      <th>Age</th>\n",
       "      <th>Occupation</th>\n",
       "      <th>City_Category</th>\n",
       "      <th>Stay_In_Current_City_Years</th>\n",
       "      <th>Marital_Status</th>\n",
       "      <th>Product_Category_1</th>\n",
       "      <th>Product_Category_2</th>\n",
       "      <th>Purchase</th>\n",
       "    </tr>\n",
       "  </thead>\n",
       "  <tbody>\n",
       "    <tr>\n",
       "      <th>0</th>\n",
       "      <td>1000001</td>\n",
       "      <td>672</td>\n",
       "      <td>0</td>\n",
       "      <td>0</td>\n",
       "      <td>10</td>\n",
       "      <td>0</td>\n",
       "      <td>2</td>\n",
       "      <td>0</td>\n",
       "      <td>3</td>\n",
       "      <td>0</td>\n",
       "      <td>8370</td>\n",
       "    </tr>\n",
       "    <tr>\n",
       "      <th>1</th>\n",
       "      <td>1000001</td>\n",
       "      <td>2376</td>\n",
       "      <td>0</td>\n",
       "      <td>0</td>\n",
       "      <td>10</td>\n",
       "      <td>0</td>\n",
       "      <td>2</td>\n",
       "      <td>0</td>\n",
       "      <td>1</td>\n",
       "      <td>6</td>\n",
       "      <td>15200</td>\n",
       "    </tr>\n",
       "    <tr>\n",
       "      <th>2</th>\n",
       "      <td>1000001</td>\n",
       "      <td>852</td>\n",
       "      <td>0</td>\n",
       "      <td>0</td>\n",
       "      <td>10</td>\n",
       "      <td>0</td>\n",
       "      <td>2</td>\n",
       "      <td>0</td>\n",
       "      <td>12</td>\n",
       "      <td>0</td>\n",
       "      <td>1422</td>\n",
       "    </tr>\n",
       "    <tr>\n",
       "      <th>3</th>\n",
       "      <td>1000001</td>\n",
       "      <td>828</td>\n",
       "      <td>0</td>\n",
       "      <td>0</td>\n",
       "      <td>10</td>\n",
       "      <td>0</td>\n",
       "      <td>2</td>\n",
       "      <td>0</td>\n",
       "      <td>12</td>\n",
       "      <td>14</td>\n",
       "      <td>1057</td>\n",
       "    </tr>\n",
       "    <tr>\n",
       "      <th>4</th>\n",
       "      <td>1000002</td>\n",
       "      <td>2734</td>\n",
       "      <td>1</td>\n",
       "      <td>6</td>\n",
       "      <td>16</td>\n",
       "      <td>2</td>\n",
       "      <td>4</td>\n",
       "      <td>0</td>\n",
       "      <td>8</td>\n",
       "      <td>0</td>\n",
       "      <td>7969</td>\n",
       "    </tr>\n",
       "  </tbody>\n",
       "</table>\n",
       "</div>"
      ],
      "text/plain": [
       "   User_ID  Product_ID  Gender  Age  Occupation  City_Category  \\\n",
       "0  1000001         672       0    0          10              0   \n",
       "1  1000001        2376       0    0          10              0   \n",
       "2  1000001         852       0    0          10              0   \n",
       "3  1000001         828       0    0          10              0   \n",
       "4  1000002        2734       1    6          16              2   \n",
       "\n",
       "   Stay_In_Current_City_Years  Marital_Status  Product_Category_1  \\\n",
       "0                           2               0                   3   \n",
       "1                           2               0                   1   \n",
       "2                           2               0                  12   \n",
       "3                           2               0                  12   \n",
       "4                           4               0                   8   \n",
       "\n",
       "   Product_Category_2  Purchase  \n",
       "0                   0      8370  \n",
       "1                   6     15200  \n",
       "2                   0      1422  \n",
       "3                  14      1057  \n",
       "4                   0      7969  "
      ]
     },
     "execution_count": 25,
     "metadata": {},
     "output_type": "execute_result"
    }
   ],
   "source": [
    "df.head()"
   ]
  },
  {
   "cell_type": "code",
   "execution_count": 26,
   "id": "86833eab",
   "metadata": {
    "colab": {
     "base_uri": "https://localhost:8080/"
    },
    "id": "86833eab",
    "outputId": "0f28e24c-1536-421f-a882-1918ffd76629"
   },
   "outputs": [
    {
     "name": "stdout",
     "output_type": "stream",
     "text": [
      "<class 'pandas.core.frame.DataFrame'>\n",
      "RangeIndex: 550068 entries, 0 to 550067\n",
      "Data columns (total 11 columns):\n",
      " #   Column                      Non-Null Count   Dtype\n",
      "---  ------                      --------------   -----\n",
      " 0   User_ID                     550068 non-null  int64\n",
      " 1   Product_ID                  550068 non-null  int32\n",
      " 2   Gender                      550068 non-null  int32\n",
      " 3   Age                         550068 non-null  int32\n",
      " 4   Occupation                  550068 non-null  int64\n",
      " 5   City_Category               550068 non-null  int32\n",
      " 6   Stay_In_Current_City_Years  550068 non-null  int32\n",
      " 7   Marital_Status              550068 non-null  int64\n",
      " 8   Product_Category_1          550068 non-null  int64\n",
      " 9   Product_Category_2          550068 non-null  int64\n",
      " 10  Purchase                    550068 non-null  int64\n",
      "dtypes: int32(5), int64(6)\n",
      "memory usage: 35.7 MB\n"
     ]
    }
   ],
   "source": [
    "df.info()"
   ]
  },
  {
   "cell_type": "markdown",
   "id": "20514888",
   "metadata": {
    "id": "20514888"
   },
   "source": [
    "### Normalization"
   ]
  },
  {
   "cell_type": "code",
   "execution_count": 27,
   "id": "0fe67971",
   "metadata": {
    "id": "0fe67971"
   },
   "outputs": [],
   "source": [
    "# from sklearn.preprocessing import StandardScaler\n",
    "\n",
    "# sstrain = StandardScaler()\n",
    "# df_stand = sstrain.fit_transform(df)"
   ]
  },
  {
   "cell_type": "code",
   "execution_count": 28,
   "id": "d0ca5aeb",
   "metadata": {
    "colab": {
     "base_uri": "https://localhost:8080/"
    },
    "id": "d0ca5aeb",
    "outputId": "86781843-e990-44b6-e022-44a8e0b23b08"
   },
   "outputs": [],
   "source": [
    "# df.dtypes"
   ]
  },
  {
   "cell_type": "code",
   "execution_count": 29,
   "id": "3533f10e",
   "metadata": {},
   "outputs": [
    {
     "data": {
      "text/plain": [
       "User_ID                       int64\n",
       "Product_ID                    int64\n",
       "Gender                        int64\n",
       "Age                           int64\n",
       "Occupation                    int64\n",
       "City_Category                 int64\n",
       "Stay_In_Current_City_Years    int64\n",
       "Marital_Status                int64\n",
       "Product_Category_1            int64\n",
       "Product_Category_2            int64\n",
       "Purchase                      int64\n",
       "dtype: object"
      ]
     },
     "execution_count": 29,
     "metadata": {},
     "output_type": "execute_result"
    }
   ],
   "source": [
    "df=df.astype({'Product_ID':'int64'})\n",
    "df=df.astype({'Gender':'int64'})\n",
    "df=df.astype({'City_Category':'int64'})\n",
    "df=df.astype({'Age':'int64'})\n",
    "df=df.astype({'Stay_In_Current_City_Years':'int64'})\n",
    "df.dtypes"
   ]
  },
  {
   "cell_type": "markdown",
   "id": "fef3dc1f",
   "metadata": {
    "id": "fef3dc1f"
   },
   "source": [
    "### Data Splitting"
   ]
  },
  {
   "cell_type": "markdown",
   "id": "47e0de72",
   "metadata": {
    "id": "47e0de72"
   },
   "source": [
    "#### Since, our data was already divided into train and test, we will split train data into 2 parts in the ratio 80-20\n",
    "* train data\n",
    "* cross validation data"
   ]
  },
  {
   "cell_type": "code",
   "execution_count": 30,
   "id": "21a631b0",
   "metadata": {
    "colab": {
     "base_uri": "https://localhost:8080/"
    },
    "id": "21a631b0",
    "outputId": "3692ac61-8ca6-46f0-ff23-ebd12477be83"
   },
   "outputs": [
    {
     "data": {
      "text/plain": [
       "Index(['User_ID', 'Product_ID', 'Gender', 'Age', 'Occupation', 'City_Category',\n",
       "       'Stay_In_Current_City_Years', 'Marital_Status', 'Product_Category_1',\n",
       "       'Product_Category_2'],\n",
       "      dtype='object')"
      ]
     },
     "execution_count": 30,
     "metadata": {},
     "output_type": "execute_result"
    }
   ],
   "source": [
    "X = df.iloc[:,:-1]\n",
    "X.columns"
   ]
  },
  {
   "cell_type": "code",
   "execution_count": 31,
   "id": "2478971f",
   "metadata": {
    "colab": {
     "base_uri": "https://localhost:8080/"
    },
    "id": "2478971f",
    "outputId": "36b693a9-77a9-48f9-b9da-eaa97e40de34"
   },
   "outputs": [
    {
     "data": {
      "text/plain": [
       "Index(['Purchase'], dtype='object')"
      ]
     },
     "execution_count": 31,
     "metadata": {},
     "output_type": "execute_result"
    }
   ],
   "source": [
    "y = df.iloc[:,-1:]\n",
    "y.columns"
   ]
  },
  {
   "cell_type": "code",
   "execution_count": 32,
   "id": "3b38af96",
   "metadata": {},
   "outputs": [
    {
     "data": {
      "text/plain": [
       "((550068, 10), (550068, 1))"
      ]
     },
     "execution_count": 32,
     "metadata": {},
     "output_type": "execute_result"
    }
   ],
   "source": [
    "X.shape, y.shape"
   ]
  },
  {
   "cell_type": "code",
   "execution_count": 33,
   "id": "7b231c2f",
   "metadata": {
    "id": "7b231c2f"
   },
   "outputs": [],
   "source": [
    "x_train, x_cv, y_train, y_cv = train_test_split(X, y, test_size=0.2, random_state=1)"
   ]
  },
  {
   "cell_type": "markdown",
   "id": "7e555c59",
   "metadata": {},
   "source": [
    "* 80% train data\n",
    "* 20% cross-validation data"
   ]
  },
  {
   "cell_type": "code",
   "execution_count": 34,
   "id": "719ad921",
   "metadata": {
    "colab": {
     "base_uri": "https://localhost:8080/"
    },
    "id": "719ad921",
    "outputId": "1b95d4b0-7740-4b84-a9ad-67f9821e38cd"
   },
   "outputs": [
    {
     "data": {
      "text/plain": [
       "[(440054, 10), (440054, 1)]"
      ]
     },
     "execution_count": 34,
     "metadata": {},
     "output_type": "execute_result"
    }
   ],
   "source": [
    "[x_train.shape,y_train.shape]"
   ]
  },
  {
   "cell_type": "code",
   "execution_count": 35,
   "id": "5ea3ac31",
   "metadata": {
    "colab": {
     "base_uri": "https://localhost:8080/"
    },
    "id": "5ea3ac31",
    "outputId": "1cc8bb4f-8adc-4850-966e-232785d560ba"
   },
   "outputs": [
    {
     "data": {
      "text/plain": [
       "[(110014, 10), (110014, 1)]"
      ]
     },
     "execution_count": 35,
     "metadata": {},
     "output_type": "execute_result"
    }
   ],
   "source": [
    "[x_cv.shape,y_cv.shape]"
   ]
  },
  {
   "cell_type": "markdown",
   "id": "48441706",
   "metadata": {
    "id": "48441706"
   },
   "source": [
    "### Feature Selection"
   ]
  },
  {
   "cell_type": "markdown",
   "id": "62da0eff",
   "metadata": {
    "id": "62da0eff"
   },
   "source": [
    "### Mutual Information"
   ]
  },
  {
   "cell_type": "code",
   "execution_count": 36,
   "id": "0de4db69",
   "metadata": {
    "id": "0de4db69"
   },
   "outputs": [],
   "source": [
    "from sklearn.feature_selection import mutual_info_regression\n",
    "\n",
    "def make_mi_scores(X, y, discrete_features):\n",
    "    MI_Score = mutual_info_regression(X, y, discrete_features=discrete_features)\n",
    "    MI_Score = pd.Series(MI_Score, name=\"MI Scores\", index=X.columns)\n",
    "    MI_Score = MI_Score.sort_values(ascending=False)\n",
    "    return MI_Score"
   ]
  },
  {
   "cell_type": "code",
   "execution_count": 37,
   "id": "bccac528",
   "metadata": {
    "colab": {
     "base_uri": "https://localhost:8080/"
    },
    "id": "bccac528",
    "outputId": "73df41d5-6666-4f0c-fed0-3804dcab7d40"
   },
   "outputs": [
    {
     "data": {
      "text/plain": [
       "Product_Category_1            1.049819\n",
       "Product_Category_2            0.097908\n",
       "Product_ID                    0.037512\n",
       "Age                           0.007583\n",
       "Gender                        0.006133\n",
       "City_Category                 0.005726\n",
       "Occupation                    0.003219\n",
       "Marital_Status                0.001810\n",
       "Stay_In_Current_City_Years    0.000877\n",
       "User_ID                       0.000000\n",
       "Name: MI Scores, dtype: float64"
      ]
     },
     "execution_count": 37,
     "metadata": {},
     "output_type": "execute_result"
    }
   ],
   "source": [
    "features = X.dtypes == int\n",
    "MI_Score = make_mi_scores(x_train, y_train, features)\n",
    "MI_Score[::]"
   ]
  },
  {
   "cell_type": "markdown",
   "id": "37ede73e",
   "metadata": {},
   "source": [
    "#### Sorting features based on their importance."
   ]
  },
  {
   "cell_type": "code",
   "execution_count": 38,
   "id": "3b5066e7",
   "metadata": {
    "colab": {
     "base_uri": "https://localhost:8080/",
     "height": 0
    },
    "id": "3b5066e7",
    "outputId": "5c4507bd-557f-43a0-ffe2-892278dd851b"
   },
   "outputs": [
    {
     "data": {
      "image/png": "[encoded data removed]",
      "text/plain": [
       "<Figure size 800x500 with 1 Axes>"
      ]
     },
     "metadata": {
      "needs_background": "light"
     },
     "output_type": "display_data"
    }
   ],
   "source": [
    "def plot_mi_scores(scores):\n",
    "    scores = scores.sort_values(ascending=True)\n",
    "    width = np.arange(len(scores))\n",
    "    ticks = list(scores.index)\n",
    "    plt.barh(width, scores)\n",
    "    plt.yticks(width, ticks)\n",
    "    plt.title(\"Mutual Information Scores\")\n",
    "\n",
    "\n",
    "plt.figure(dpi=100, figsize=(8, 5))\n",
    "plot_mi_scores(MI_Score)"
   ]
  },
  {
   "cell_type": "markdown",
   "id": "78572084",
   "metadata": {
    "id": "78572084"
   },
   "source": [
    "### Heatmap"
   ]
  },
  {
   "cell_type": "code",
   "execution_count": 39,
   "id": "ebb57438",
   "metadata": {
    "colab": {
     "base_uri": "https://localhost:8080/"
    },
    "id": "ebb57438",
    "outputId": "7bd612a5-5d7b-4a84-a2b4-d1517b71baf8"
   },
   "outputs": [
    {
     "name": "stdout",
     "output_type": "stream",
     "text": [
      "<class 'pandas.core.frame.DataFrame'>\n",
      "Int64Index: 440054 entries, 529969 to 128037\n",
      "Data columns (total 10 columns):\n",
      " #   Column                      Non-Null Count   Dtype\n",
      "---  ------                      --------------   -----\n",
      " 0   User_ID                     440054 non-null  int64\n",
      " 1   Product_ID                  440054 non-null  int64\n",
      " 2   Gender                      440054 non-null  int64\n",
      " 3   Age                         440054 non-null  int64\n",
      " 4   Occupation                  440054 non-null  int64\n",
      " 5   City_Category               440054 non-null  int64\n",
      " 6   Stay_In_Current_City_Years  440054 non-null  int64\n",
      " 7   Marital_Status              440054 non-null  int64\n",
      " 8   Product_Category_1          440054 non-null  int64\n",
      " 9   Product_Category_2          440054 non-null  int64\n",
      "dtypes: int64(10)\n",
      "memory usage: 36.9 MB\n"
     ]
    }
   ],
   "source": [
    "x_train.info()"
   ]
  },
  {
   "cell_type": "code",
   "execution_count": 40,
   "id": "cb2c73cf",
   "metadata": {
    "colab": {
     "base_uri": "https://localhost:8080/",
     "height": 737
    },
    "id": "cb2c73cf",
    "outputId": "0b6dbd63-aac5-4626-921b-9f98d2164e8d"
   },
   "outputs": [
    {
     "data": {
      "text/plain": [
       "<AxesSubplot:>"
      ]
     },
     "execution_count": 40,
     "metadata": {},
     "output_type": "execute_result"
    },
    {
     "data": {
      "image/png": "[encoded data removed]",
      "text/plain": [
       "<Figure size 1440x720 with 2 Axes>"
      ]
     },
     "metadata": {
      "needs_background": "light"
     },
     "output_type": "display_data"
    }
   ],
   "source": [
    "plt.figure(figsize=(20,10))\n",
    "sns.heatmap(x_train.corr().abs(),annot=True)"
   ]
  },
  {
   "cell_type": "markdown",
   "id": "3f17c970",
   "metadata": {
    "id": "3f17c970"
   },
   "source": [
    "### Modeling"
   ]
  },
  {
   "cell_type": "markdown",
   "id": "95251c0b",
   "metadata": {
    "id": "95251c0b"
   },
   "source": [
    "#### Now we need to compare with different ML models, and need to find out the best predicted model\n",
    "* Linear Regression\n",
    "* Decision Tree Regression\n",
    "* Random Forest Regression\n",
    "* XG Boost Regression"
   ]
  },
  {
   "cell_type": "code",
   "execution_count": 41,
   "id": "0c235a86",
   "metadata": {
    "id": "0c235a86"
   },
   "outputs": [],
   "source": [
    "MSE_Score = []\n",
    "RMSE_Score = []\n",
    "MSE_Score_cv = []\n",
    "RMSE_Score_cv = []\n",
    "Algorithm = []\n",
    "R2_Score = []\n",
    "R2_Score_cv = []"
   ]
  },
  {
   "cell_type": "markdown",
   "id": "fd876932",
   "metadata": {
    "id": "fd876932"
   },
   "source": [
    "### Linear Regression"
   ]
  },
  {
   "cell_type": "code",
   "execution_count": 42,
   "id": "46283dec",
   "metadata": {
    "id": "46283dec"
   },
   "outputs": [],
   "source": [
    "# from sklearn.linear_model import LinearRegression\n",
    "# Algorithm.append('LinearRegression')\n",
    "# regressor = LinearRegression()\n",
    "# regressor.fit(x_train, y_train)\n",
    "# predicted= regressor.predict(x_train)"
   ]
  },
  {
   "cell_type": "code",
   "execution_count": 43,
   "id": "a798c885",
   "metadata": {
    "id": "a798c885"
   },
   "outputs": [],
   "source": [
    "# MSE_Score.append(mean_squared_error(y_train, predicted))\n",
    "# mse = mean_squared_error(y_train, predicted)\n",
    "# RMSE_Score.append(math.sqrt(mse))\n",
    "# R2_Score.append(r2_score(y_train, predicted))"
   ]
  },
  {
   "cell_type": "code",
   "execution_count": 44,
   "id": "a7c48545",
   "metadata": {
    "id": "a7c48545"
   },
   "outputs": [],
   "source": [
    "# predicted_cv = regressor.predict(x_cv)\n",
    "# MSE_Score_cv.append(mean_squared_error(y_cv, predicted_cv))\n",
    "# mse = mean_squared_error(y_cv, predicted_cv)\n",
    "# RMSE_Score_cv.append(math.sqrt(mse))\n",
    "# R2_Score_cv.append(r2_score(y_cv, predicted_cv))"
   ]
  },
  {
   "cell_type": "code",
   "execution_count": 45,
   "id": "e1f4ad3b",
   "metadata": {
    "colab": {
     "base_uri": "https://localhost:8080/"
    },
    "id": "e1f4ad3b",
    "outputId": "6ef95505-1877-4f98-8f4d-56b9df6f54b9"
   },
   "outputs": [],
   "source": [
    "# for i in Algorithm, MSE_Score, RMSE_Score, MSE_Score_cv, RMSE_Score_cv:\n",
    "#     print(i,end=',')"
   ]
  },
  {
   "cell_type": "markdown",
   "id": "defb582c",
   "metadata": {
    "id": "defb582c"
   },
   "source": [
    "### Decision Tree Regression"
   ]
  },
  {
   "cell_type": "code",
   "execution_count": 46,
   "id": "cd5fc3da",
   "metadata": {
    "id": "cd5fc3da"
   },
   "outputs": [],
   "source": [
    "# from sklearn.tree import DecisionTreeRegressor\n",
    "# Algorithm.append('DecisionTreeRegression')\n",
    "# regressor_dt = DecisionTreeRegressor()\n",
    "# regressor_dt.fit(x_train, y_train)\n",
    "# predicted_dt= regressor_dt.predict(x_train)"
   ]
  },
  {
   "cell_type": "code",
   "execution_count": 47,
   "id": "173517b2",
   "metadata": {
    "id": "173517b2"
   },
   "outputs": [],
   "source": [
    "# MSE_Score.append(mean_squared_error(y_train, predicted_dt))\n",
    "# mse_dt = mean_squared_error(y_train, predicted_dt)\n",
    "# RMSE_Score.append(math.sqrt(mse_dt))\n",
    "# R2_Score.append(r2_score(y_train, predicted_dt))"
   ]
  },
  {
   "cell_type": "code",
   "execution_count": 48,
   "id": "45f15417",
   "metadata": {
    "id": "45f15417"
   },
   "outputs": [],
   "source": [
    "# predicted_dt_cv = regressor_dt.predict(x_cv)\n",
    "# MSE_Score_cv.append(mean_squared_error(y_cv, predicted_dt_cv))\n",
    "# mse_dt = mean_squared_error(y_cv, predicted_dt_cv)\n",
    "# RMSE_Score_cv.append(math.sqrt(mse_dt))\n",
    "# R2_Score_cv.append(r2_score(y_cv, predicted_dt_cv))"
   ]
  },
  {
   "cell_type": "code",
   "execution_count": 49,
   "id": "c440c108",
   "metadata": {
    "colab": {
     "base_uri": "https://localhost:8080/"
    },
    "id": "c440c108",
    "outputId": "827dba93-3c11-433a-ef45-85eabbfeb2b7"
   },
   "outputs": [],
   "source": [
    "# for i in Algorithm, MSE_Score, RMSE_Score, MSE_Score_cv, RMSE_Score_cv:\n",
    "#     print(i,end=',')"
   ]
  },
  {
   "cell_type": "markdown",
   "id": "a48fffde",
   "metadata": {
    "id": "a48fffde"
   },
   "source": [
    "### Random Forest Regression"
   ]
  },
  {
   "cell_type": "code",
   "execution_count": 50,
   "id": "bVK8ZS-K8XPG",
   "metadata": {
    "id": "bVK8ZS-K8XPG"
   },
   "outputs": [],
   "source": [
    "# from scipy.stats import loguniform\n",
    "# from pandas import read_csv\n",
    "# from sklearn.linear_model import Ridge\n",
    "# from sklearn.linear_model import LinearRegression\n",
    "# from sklearn.model_selection import RepeatedKFold\n",
    "# from sklearn.model_selection import RandomizedSearchCV"
   ]
  },
  {
   "cell_type": "code",
   "execution_count": 51,
   "id": "V4gYVLsR8XLg",
   "metadata": {
    "colab": {
     "base_uri": "https://localhost:8080/"
    },
    "id": "V4gYVLsR8XLg",
    "outputId": "2e158c8c-2ead-4de6-d7b9-dddee16a4aee"
   },
   "outputs": [],
   "source": [
    "# from sklearn.model_selection import RandomizedSearchCV\n",
    "# from pprint import pprint\n",
    "# from sklearn.ensemble import RandomForestRegressor\n",
    "\n",
    "# regressor_rf = RandomForestRegressor()\n",
    "# # Number of trees in random forest\n",
    "# n_estimators = [int(x) for x in np.linspace(start = 20, stop = 200, num = 5)]\n",
    "# # Number of features to consider at every split\n",
    "# max_features = ['auto', 'sqrt']\n",
    "# # Maximum number of levels in tree\n",
    "# max_depth = [int(x) for x in np.linspace(1, 45, num = 3)]\n",
    "# # Minimum number of samples required to split a node\n",
    "# min_samples_split = [5, 10]\n",
    "\n",
    "# # Create the random grid\n",
    "# random_grid = {'n_estimators': n_estimators,\n",
    "#                'max_features': max_features,\n",
    "#                'max_depth': max_depth,\n",
    "#                'min_samples_split': min_samples_split}\n",
    "\n",
    "# pprint(random_grid)\n"
   ]
  },
  {
   "cell_type": "code",
   "execution_count": 52,
   "id": "gbxivHB58XIo",
   "metadata": {
    "colab": {
     "base_uri": "https://localhost:8080/"
    },
    "id": "gbxivHB58XIo",
    "outputId": "5c6e80e4-4b47-478e-d329-64403e7415d9"
   },
   "outputs": [],
   "source": [
    "# rf_random = RandomizedSearchCV(estimator = regressor_rf, param_distributions = random_grid, n_iter = 10, cv = 10, verbose=2, random_state=42, n_jobs = -1, scoring='neg_mean_squared_error')\n",
    "# # Fit the random search model\n",
    "# rf_random.fit(x_train, y_train)"
   ]
  },
  {
   "cell_type": "code",
   "execution_count": 53,
   "id": "W3w-1zgd8XFi",
   "metadata": {
    "colab": {
     "base_uri": "https://localhost:8080/"
    },
    "id": "W3w-1zgd8XFi",
    "outputId": "2b55513a-8dc8-4dd2-f9ce-3425e070fc0b"
   },
   "outputs": [],
   "source": [
    "# cvres2 = rf_random.cv_results_\n",
    "# for mean_score, params in zip(cvres2[\"mean_test_score\"], cvres2[\"params\"]):\n",
    "#     print(np.sqrt(-mean_score), params)"
   ]
  },
  {
   "cell_type": "code",
   "execution_count": 54,
   "id": "6T7so2Dd8W2t",
   "metadata": {
    "colab": {
     "base_uri": "https://localhost:8080/"
    },
    "id": "6T7so2Dd8W2t",
    "outputId": "b85686c2-0ea8-472b-8483-f7cae51b5ff0"
   },
   "outputs": [],
   "source": [
    "# rf_random.best_estimator_"
   ]
  },
  {
   "cell_type": "code",
   "execution_count": 55,
   "id": "A9z58_iX8WZR",
   "metadata": {
    "colab": {
     "base_uri": "https://localhost:8080/"
    },
    "id": "A9z58_iX8WZR",
    "outputId": "3ab14933-8649-4fd2-9bfb-b592f35f6f8f"
   },
   "outputs": [],
   "source": [
    "# rf_random.best_params_"
   ]
  },
  {
   "cell_type": "code",
   "execution_count": 56,
   "id": "d358a104",
   "metadata": {
    "id": "d358a104"
   },
   "outputs": [],
   "source": [
    "# from sklearn.ensemble import RandomForestRegressor\n",
    "# Algorithm.append('RandomForestRegressor')\n",
    "# # RandomForestRegressor(max_depth=45, max_features='sqrt', min_samples_split=10, n_estimators=110)\n",
    "# regressor_rf = RandomForestRegressor(bootstrap = True, max_depth = 75, max_features = 'auto', min_samples_leaf = 4, min_samples_split = 10, n_estimators = 400)\n",
    "# regressor_rf.fit(x_train, y_train)\n",
    "# predicted_rf = regressor_rf.predict(x_train)"
   ]
  },
  {
   "cell_type": "code",
   "execution_count": 57,
   "id": "312926d7",
   "metadata": {
    "id": "312926d7"
   },
   "outputs": [],
   "source": [
    "# MSE_Score.append(mean_squared_error(y_train, predicted_rf))\n",
    "# mse_rf = mean_squared_error(y_train, predicted_rf)\n",
    "# RMSE_Score.append(math.sqrt(mse_rf))\n",
    "# R2_Score.append(r2_score(y_train, predicted_rf))"
   ]
  },
  {
   "cell_type": "code",
   "execution_count": 58,
   "id": "5b6c55c0",
   "metadata": {
    "id": "5b6c55c0"
   },
   "outputs": [],
   "source": [
    "# predicted_rf_cv = regressor_rf.predict(x_cv)\n",
    "# MSE_Score_cv.append(mean_squared_error(y_cv, predicted_rf_cv))\n",
    "# mse_rf = mean_squared_error(y_cv, predicted_rf_cv)\n",
    "# RMSE_Score_cv.append(math.sqrt(mse_rf))\n",
    "# R2_Score_cv.append(r2_score(y_cv, predicted_dt_cv))"
   ]
  },
  {
   "cell_type": "code",
   "execution_count": 59,
   "id": "d1b473d8",
   "metadata": {
    "colab": {
     "base_uri": "https://localhost:8080/"
    },
    "id": "d1b473d8",
    "outputId": "5c9420db-e8d8-426d-db78-bd17df585dfc"
   },
   "outputs": [],
   "source": [
    "# for i in Algorithm, MSE_Score, RMSE_Score, MSE_Score_cv, RMSE_Score_cv:\n",
    "#     print(i,end=',')"
   ]
  },
  {
   "cell_type": "markdown",
   "id": "be2e5333",
   "metadata": {
    "id": "be2e5333"
   },
   "source": [
    "### XG BOOST"
   ]
  },
  {
   "cell_type": "code",
   "execution_count": 60,
   "id": "942084fa",
   "metadata": {
    "colab": {
     "base_uri": "https://localhost:8080/"
    },
    "id": "942084fa",
    "outputId": "b642e92f-fd31-4475-fb5d-5a10ca6f8d42"
   },
   "outputs": [],
   "source": [
    "import xgboost as xgb\n",
    "Algorithm.append('XGB Regressor')\n",
    "# regressor_xg = xgb.XGBRegressor(max_depth=5 ,learning_rate=0.2 ,n_estimators=140)\n",
    "regressor_xg = xgb.XGBRegressor(booster='gbtree', max_depth=6, learning_rate=0.1, n_estimators=1000)\n",
    "regressor_xg.fit(x_train, y_train)\n",
    "predicted = regressor_xg.predict(x_train)"
   ]
  },
  {
   "cell_type": "code",
   "execution_count": 61,
   "id": "751b7a52",
   "metadata": {
    "id": "751b7a52"
   },
   "outputs": [],
   "source": [
    "MSE_Score.append(mean_squared_error(y_train, predicted))\n",
    "mse_xg = mean_squared_error(y_train, predicted)\n",
    "RMSE_Score.append(math.sqrt(mse_xg))\n",
    "R2_Score.append(r2_score(y_train, predicted))"
   ]
  },
  {
   "cell_type": "code",
   "execution_count": 62,
   "id": "064c8044",
   "metadata": {
    "id": "064c8044"
   },
   "outputs": [],
   "source": [
    "predicted_xg_cv = regressor_xg.predict(x_cv)\n",
    "MSE_Score_cv.append(mean_squared_error(y_cv, predicted_xg_cv))\n",
    "mse_xg = mean_squared_error(y_cv, predicted_xg_cv)\n",
    "RMSE_Score_cv.append(math.sqrt(mse_xg))\n",
    "R2_Score_cv.append(r2_score(y_cv, predicted_xg_cv))"
   ]
  },
  {
   "cell_type": "code",
   "execution_count": 63,
   "id": "2684cd7e",
   "metadata": {
    "colab": {
     "base_uri": "https://localhost:8080/"
    },
    "id": "2684cd7e",
    "outputId": "c71547d1-00f3-49c5-f9a4-60d2ca046972"
   },
   "outputs": [
    {
     "name": "stdout",
     "output_type": "stream",
     "text": [
      "['XGB Regressor'],[5816475.623643943],[2411.7370552454395],[6373193.334797114],[2524.518436216522],"
     ]
    }
   ],
   "source": [
    "for i in Algorithm, MSE_Score, RMSE_Score, MSE_Score_cv, RMSE_Score_cv:\n",
    "    print(i,end=',')"
   ]
  },
  {
   "cell_type": "markdown",
   "id": "fe8c7a7d",
   "metadata": {
    "id": "fe8c7a7d"
   },
   "source": [
    "### Comparison List"
   ]
  },
  {
   "cell_type": "code",
   "execution_count": 64,
   "id": "7132f7f1",
   "metadata": {
    "colab": {
     "base_uri": "https://localhost:8080/",
     "height": 175
    },
    "id": "7132f7f1",
    "outputId": "4cbf1890-2565-4e7f-c508-e16278dec8b2"
   },
   "outputs": [
    {
     "data": {
      "text/html": [
       "<div>\n",
       "<style scoped>\n",
       "    .dataframe tbody tr th:only-of-type {\n",
       "        vertical-align: middle;\n",
       "    }\n",
       "\n",
       "    .dataframe tbody tr th {\n",
       "        vertical-align: top;\n",
       "    }\n",
       "\n",
       "    .dataframe thead th {\n",
       "        text-align: right;\n",
       "    }\n",
       "</style>\n",
       "<table border=\"1\" class=\"dataframe\">\n",
       "  <thead>\n",
       "    <tr style=\"text-align: right;\">\n",
       "      <th></th>\n",
       "      <th>Algorithm</th>\n",
       "      <th>RMSE_Score_Train</th>\n",
       "      <th>RMSE_Score_cv</th>\n",
       "      <th>R2_Score</th>\n",
       "      <th>R2_Score_cv</th>\n",
       "    </tr>\n",
       "  </thead>\n",
       "  <tbody>\n",
       "    <tr>\n",
       "      <th>0</th>\n",
       "      <td>XGB Regressor</td>\n",
       "      <td>2411.737055</td>\n",
       "      <td>2524.518436</td>\n",
       "      <td>0.769258</td>\n",
       "      <td>0.748342</td>\n",
       "    </tr>\n",
       "  </tbody>\n",
       "</table>\n",
       "</div>"
      ],
      "text/plain": [
       "       Algorithm  RMSE_Score_Train  RMSE_Score_cv  R2_Score  R2_Score_cv\n",
       "0  XGB Regressor       2411.737055    2524.518436  0.769258     0.748342"
      ]
     },
     "execution_count": 64,
     "metadata": {},
     "output_type": "execute_result"
    }
   ],
   "source": [
    "comp = pd.DataFrame(list(zip(Algorithm, RMSE_Score, RMSE_Score_cv, R2_Score, R2_Score_cv)), columns =['Algorithm', 'RMSE_Score_Train', 'RMSE_Score_cv', 'R2_Score', 'R2_Score_cv']) \n",
    "comp.head(1111)"
   ]
  },
  {
   "cell_type": "markdown",
   "id": "10505d91",
   "metadata": {
    "id": "10505d91"
   },
   "source": [
    "### Test Data"
   ]
  },
  {
   "cell_type": "code",
   "execution_count": 65,
   "id": "ad5fd58c",
   "metadata": {
    "colab": {
     "base_uri": "https://localhost:8080/",
     "height": 329
    },
    "id": "ad5fd58c",
    "outputId": "43aa4887-4165-4a36-acf6-8bade1f79cec"
   },
   "outputs": [],
   "source": [
    "df=pd.read_csv(\"test.csv\")"
   ]
  },
  {
   "cell_type": "code",
   "execution_count": 66,
   "id": "9b706b64",
   "metadata": {
    "id": "9b706b64"
   },
   "outputs": [],
   "source": [
    "x_test = df.copy()"
   ]
  },
  {
   "cell_type": "markdown",
   "id": "cde37992",
   "metadata": {
    "id": "cde37992"
   },
   "source": [
    "### DataFrame related Information"
   ]
  },
  {
   "cell_type": "code",
   "execution_count": 67,
   "id": "32946c5a",
   "metadata": {
    "id": "32946c5a"
   },
   "outputs": [
    {
     "data": {
      "text/plain": [
       "(233599, 11)"
      ]
     },
     "execution_count": 67,
     "metadata": {},
     "output_type": "execute_result"
    }
   ],
   "source": [
    "df.shape"
   ]
  },
  {
   "cell_type": "code",
   "execution_count": 68,
   "id": "cbd72917",
   "metadata": {
    "id": "cbd72917"
   },
   "outputs": [
    {
     "data": {
      "text/plain": [
       "Index(['User_ID', 'Product_ID', 'Gender', 'Age', 'Occupation', 'City_Category',\n",
       "       'Stay_In_Current_City_Years', 'Marital_Status', 'Product_Category_1',\n",
       "       'Product_Category_2', 'Product_Category_3'],\n",
       "      dtype='object')"
      ]
     },
     "execution_count": 68,
     "metadata": {},
     "output_type": "execute_result"
    }
   ],
   "source": [
    "df.columns"
   ]
  },
  {
   "cell_type": "code",
   "execution_count": 69,
   "id": "d2925197",
   "metadata": {
    "id": "d2925197"
   },
   "outputs": [
    {
     "data": {
      "text/html": [
       "<div>\n",
       "<style scoped>\n",
       "    .dataframe tbody tr th:only-of-type {\n",
       "        vertical-align: middle;\n",
       "    }\n",
       "\n",
       "    .dataframe tbody tr th {\n",
       "        vertical-align: top;\n",
       "    }\n",
       "\n",
       "    .dataframe thead th {\n",
       "        text-align: right;\n",
       "    }\n",
       "</style>\n",
       "<table border=\"1\" class=\"dataframe\">\n",
       "  <thead>\n",
       "    <tr style=\"text-align: right;\">\n",
       "      <th></th>\n",
       "      <th>User_ID</th>\n",
       "      <th>Occupation</th>\n",
       "      <th>Marital_Status</th>\n",
       "      <th>Product_Category_1</th>\n",
       "      <th>Product_Category_2</th>\n",
       "      <th>Product_Category_3</th>\n",
       "    </tr>\n",
       "  </thead>\n",
       "  <tbody>\n",
       "    <tr>\n",
       "      <th>count</th>\n",
       "      <td>2.335990e+05</td>\n",
       "      <td>233599.000000</td>\n",
       "      <td>233599.000000</td>\n",
       "      <td>233599.000000</td>\n",
       "      <td>161255.000000</td>\n",
       "      <td>71037.000000</td>\n",
       "    </tr>\n",
       "    <tr>\n",
       "      <th>mean</th>\n",
       "      <td>1.003029e+06</td>\n",
       "      <td>8.085407</td>\n",
       "      <td>0.410070</td>\n",
       "      <td>5.276542</td>\n",
       "      <td>9.849586</td>\n",
       "      <td>12.669454</td>\n",
       "    </tr>\n",
       "    <tr>\n",
       "      <th>std</th>\n",
       "      <td>1.726505e+03</td>\n",
       "      <td>6.521146</td>\n",
       "      <td>0.491847</td>\n",
       "      <td>3.736380</td>\n",
       "      <td>5.094943</td>\n",
       "      <td>4.125944</td>\n",
       "    </tr>\n",
       "    <tr>\n",
       "      <th>min</th>\n",
       "      <td>1.000001e+06</td>\n",
       "      <td>0.000000</td>\n",
       "      <td>0.000000</td>\n",
       "      <td>1.000000</td>\n",
       "      <td>2.000000</td>\n",
       "      <td>3.000000</td>\n",
       "    </tr>\n",
       "    <tr>\n",
       "      <th>25%</th>\n",
       "      <td>1.001527e+06</td>\n",
       "      <td>2.000000</td>\n",
       "      <td>0.000000</td>\n",
       "      <td>1.000000</td>\n",
       "      <td>5.000000</td>\n",
       "      <td>9.000000</td>\n",
       "    </tr>\n",
       "    <tr>\n",
       "      <th>50%</th>\n",
       "      <td>1.003070e+06</td>\n",
       "      <td>7.000000</td>\n",
       "      <td>0.000000</td>\n",
       "      <td>5.000000</td>\n",
       "      <td>9.000000</td>\n",
       "      <td>14.000000</td>\n",
       "    </tr>\n",
       "    <tr>\n",
       "      <th>75%</th>\n",
       "      <td>1.004477e+06</td>\n",
       "      <td>14.000000</td>\n",
       "      <td>1.000000</td>\n",
       "      <td>8.000000</td>\n",
       "      <td>15.000000</td>\n",
       "      <td>16.000000</td>\n",
       "    </tr>\n",
       "    <tr>\n",
       "      <th>max</th>\n",
       "      <td>1.006040e+06</td>\n",
       "      <td>20.000000</td>\n",
       "      <td>1.000000</td>\n",
       "      <td>18.000000</td>\n",
       "      <td>18.000000</td>\n",
       "      <td>18.000000</td>\n",
       "    </tr>\n",
       "  </tbody>\n",
       "</table>\n",
       "</div>"
      ],
      "text/plain": [
       "            User_ID     Occupation  Marital_Status  Product_Category_1  \\\n",
       "count  2.335990e+05  233599.000000   233599.000000       233599.000000   \n",
       "mean   1.003029e+06       8.085407        0.410070            5.276542   \n",
       "std    1.726505e+03       6.521146        0.491847            3.736380   \n",
       "min    1.000001e+06       0.000000        0.000000            1.000000   \n",
       "25%    1.001527e+06       2.000000        0.000000            1.000000   \n",
       "50%    1.003070e+06       7.000000        0.000000            5.000000   \n",
       "75%    1.004477e+06      14.000000        1.000000            8.000000   \n",
       "max    1.006040e+06      20.000000        1.000000           18.000000   \n",
       "\n",
       "       Product_Category_2  Product_Category_3  \n",
       "count       161255.000000        71037.000000  \n",
       "mean             9.849586           12.669454  \n",
       "std              5.094943            4.125944  \n",
       "min              2.000000            3.000000  \n",
       "25%              5.000000            9.000000  \n",
       "50%              9.000000           14.000000  \n",
       "75%             15.000000           16.000000  \n",
       "max             18.000000           18.000000  "
      ]
     },
     "execution_count": 69,
     "metadata": {},
     "output_type": "execute_result"
    }
   ],
   "source": [
    "df.describe()"
   ]
  },
  {
   "cell_type": "code",
   "execution_count": 70,
   "id": "b510b1d5",
   "metadata": {
    "id": "b510b1d5"
   },
   "outputs": [
    {
     "name": "stdout",
     "output_type": "stream",
     "text": [
      "<class 'pandas.core.frame.DataFrame'>\n",
      "RangeIndex: 233599 entries, 0 to 233598\n",
      "Data columns (total 11 columns):\n",
      " #   Column                      Non-Null Count   Dtype  \n",
      "---  ------                      --------------   -----  \n",
      " 0   User_ID                     233599 non-null  int64  \n",
      " 1   Product_ID                  233599 non-null  object \n",
      " 2   Gender                      233599 non-null  object \n",
      " 3   Age                         233599 non-null  object \n",
      " 4   Occupation                  233599 non-null  int64  \n",
      " 5   City_Category               233599 non-null  object \n",
      " 6   Stay_In_Current_City_Years  233599 non-null  object \n",
      " 7   Marital_Status              233599 non-null  int64  \n",
      " 8   Product_Category_1          233599 non-null  int64  \n",
      " 9   Product_Category_2          161255 non-null  float64\n",
      " 10  Product_Category_3          71037 non-null   float64\n",
      "dtypes: float64(2), int64(4), object(5)\n",
      "memory usage: 19.6+ MB\n"
     ]
    }
   ],
   "source": [
    "df.info()"
   ]
  },
  {
   "cell_type": "markdown",
   "id": "50435efd",
   "metadata": {
    "id": "50435efd"
   },
   "source": [
    "#### In the test dataset, there is no target variable."
   ]
  },
  {
   "cell_type": "markdown",
   "id": "72313102",
   "metadata": {
    "id": "72313102"
   },
   "source": [
    "### Data Cleaning"
   ]
  },
  {
   "cell_type": "code",
   "execution_count": 71,
   "id": "7945a213",
   "metadata": {
    "id": "7945a213"
   },
   "outputs": [
    {
     "data": {
      "text/plain": [
       "User_ID                        0.000000\n",
       "Product_ID                     0.000000\n",
       "Gender                         0.000000\n",
       "Age                            0.000000\n",
       "Occupation                     0.000000\n",
       "City_Category                  0.000000\n",
       "Stay_In_Current_City_Years     0.000000\n",
       "Marital_Status                 0.000000\n",
       "Product_Category_1             0.000000\n",
       "Product_Category_2            30.969311\n",
       "Product_Category_3            69.590195\n",
       "dtype: float64"
      ]
     },
     "execution_count": 71,
     "metadata": {},
     "output_type": "execute_result"
    }
   ],
   "source": [
    "(df.isnull().mean())*100"
   ]
  },
  {
   "cell_type": "code",
   "execution_count": 72,
   "id": "974cf309",
   "metadata": {
    "id": "974cf309"
   },
   "outputs": [],
   "source": [
    "df.drop(\"Product_Category_3\", axis=1, inplace=True)"
   ]
  },
  {
   "cell_type": "markdown",
   "id": "89f8acfa",
   "metadata": {
    "id": "89f8acfa"
   },
   "source": [
    "#### Since the field have approx 70% null values, it could be mis-leading"
   ]
  },
  {
   "cell_type": "code",
   "execution_count": 73,
   "id": "f9e387da",
   "metadata": {
    "id": "f9e387da"
   },
   "outputs": [],
   "source": [
    "df['Product_Category_2'] = df['Product_Category_2'].replace(np.nan, 0)"
   ]
  },
  {
   "cell_type": "code",
   "execution_count": 74,
   "id": "cd4688f8",
   "metadata": {
    "id": "cd4688f8"
   },
   "outputs": [
    {
     "data": {
      "text/plain": [
       "User_ID                       0.0\n",
       "Product_ID                    0.0\n",
       "Gender                        0.0\n",
       "Age                           0.0\n",
       "Occupation                    0.0\n",
       "City_Category                 0.0\n",
       "Stay_In_Current_City_Years    0.0\n",
       "Marital_Status                0.0\n",
       "Product_Category_1            0.0\n",
       "Product_Category_2            0.0\n",
       "dtype: float64"
      ]
     },
     "execution_count": 74,
     "metadata": {},
     "output_type": "execute_result"
    }
   ],
   "source": [
    "(df.isnull().mean())*100"
   ]
  },
  {
   "cell_type": "markdown",
   "id": "6deb3334",
   "metadata": {
    "id": "6deb3334"
   },
   "source": [
    "### Duplicate Date"
   ]
  },
  {
   "cell_type": "code",
   "execution_count": 75,
   "id": "25efe5ce",
   "metadata": {
    "id": "25efe5ce"
   },
   "outputs": [
    {
     "data": {
      "text/html": [
       "<div>\n",
       "<style scoped>\n",
       "    .dataframe tbody tr th:only-of-type {\n",
       "        vertical-align: middle;\n",
       "    }\n",
       "\n",
       "    .dataframe tbody tr th {\n",
       "        vertical-align: top;\n",
       "    }\n",
       "\n",
       "    .dataframe thead th {\n",
       "        text-align: right;\n",
       "    }\n",
       "</style>\n",
       "<table border=\"1\" class=\"dataframe\">\n",
       "  <thead>\n",
       "    <tr style=\"text-align: right;\">\n",
       "      <th></th>\n",
       "      <th>User_ID</th>\n",
       "      <th>Product_ID</th>\n",
       "      <th>Gender</th>\n",
       "      <th>Age</th>\n",
       "      <th>Occupation</th>\n",
       "      <th>City_Category</th>\n",
       "      <th>Stay_In_Current_City_Years</th>\n",
       "      <th>Marital_Status</th>\n",
       "      <th>Product_Category_1</th>\n",
       "      <th>Product_Category_2</th>\n",
       "    </tr>\n",
       "  </thead>\n",
       "  <tbody>\n",
       "  </tbody>\n",
       "</table>\n",
       "</div>"
      ],
      "text/plain": [
       "Empty DataFrame\n",
       "Columns: [User_ID, Product_ID, Gender, Age, Occupation, City_Category, Stay_In_Current_City_Years, Marital_Status, Product_Category_1, Product_Category_2]\n",
       "Index: []"
      ]
     },
     "execution_count": 75,
     "metadata": {},
     "output_type": "execute_result"
    }
   ],
   "source": [
    "df[df.duplicated(keep=False)]"
   ]
  },
  {
   "cell_type": "code",
   "execution_count": 76,
   "id": "952563c4",
   "metadata": {
    "id": "952563c4"
   },
   "outputs": [
    {
     "data": {
      "text/plain": [
       "0"
      ]
     },
     "execution_count": 76,
     "metadata": {},
     "output_type": "execute_result"
    }
   ],
   "source": [
    "len(df[df.duplicated(keep=False)])"
   ]
  },
  {
   "cell_type": "markdown",
   "id": "5d534fe6",
   "metadata": {
    "id": "5d534fe6"
   },
   "source": [
    "### Label Encodig"
   ]
  },
  {
   "cell_type": "code",
   "execution_count": 77,
   "id": "4bda557d",
   "metadata": {
    "id": "4bda557d"
   },
   "outputs": [],
   "source": [
    "label_encoder.fit(df[\"City_Category\"])\n",
    "df['City_Category'] = label_encoder.transform(df['City_Category'])\n",
    "\n",
    "label_encoder.fit(df[\"Occupation\"])\n",
    "df['Occupation'] = label_encoder.transform(df['Occupation'])\n",
    "\n",
    "label_encoder.fit(df[\"Gender\"])\n",
    "df['Gender'] = label_encoder.transform(df['Gender'])\n",
    "\n",
    "label_encoder.fit(df[\"Product_ID\"])    \n",
    "df['Product_ID'] = label_encoder.transform(df['Product_ID'])\n",
    "\n",
    "label_encoder.fit(df[\"Age\"])    \n",
    "df['Age'] = label_encoder.transform(df['Age'])\n",
    "\n",
    "label_encoder.fit(df[\"Stay_In_Current_City_Years\"])    \n",
    "df['Stay_In_Current_City_Years'] = label_encoder.transform(df['Stay_In_Current_City_Years'])"
   ]
  },
  {
   "cell_type": "markdown",
   "id": "4a91ecca",
   "metadata": {
    "id": "4a91ecca"
   },
   "source": [
    "### Modeling"
   ]
  },
  {
   "cell_type": "markdown",
   "id": "1d05f62e",
   "metadata": {
    "id": "1d05f62e"
   },
   "source": [
    "#### XG Boost was giving the most stable model so we will proceed with XG Boost"
   ]
  },
  {
   "cell_type": "code",
   "execution_count": 78,
   "id": "a260a914",
   "metadata": {
    "id": "a260a914"
   },
   "outputs": [],
   "source": [
    "predicted = regressor_xg.predict(df)"
   ]
  },
  {
   "cell_type": "markdown",
   "id": "a301a490",
   "metadata": {
    "id": "a301a490"
   },
   "source": [
    "### Prediction"
   ]
  },
  {
   "cell_type": "code",
   "execution_count": 79,
   "id": "ae859c7b",
   "metadata": {
    "id": "ae859c7b"
   },
   "outputs": [],
   "source": [
    "final_result = pd.Series(predicted,name='Purchase')"
   ]
  },
  {
   "cell_type": "code",
   "execution_count": 80,
   "id": "0b67890b",
   "metadata": {
    "id": "0b67890b"
   },
   "outputs": [
    {
     "data": {
      "text/plain": [
       "0    13143.686523\n",
       "1    11424.450195\n",
       "2     6584.332031\n",
       "3     2849.675781\n",
       "4     1221.047363\n",
       "Name: Purchase, dtype: float32"
      ]
     },
     "execution_count": 80,
     "metadata": {},
     "output_type": "execute_result"
    }
   ],
   "source": [
    "final_result.head()"
   ]
  },
  {
   "cell_type": "markdown",
   "id": "538b61fd",
   "metadata": {
    "id": "538b61fd"
   },
   "source": [
    "### Merge x_train & y_train"
   ]
  },
  {
   "cell_type": "code",
   "execution_count": 81,
   "id": "850b0fdc",
   "metadata": {
    "id": "850b0fdc"
   },
   "outputs": [],
   "source": [
    "x_test['Purchase']=final_result"
   ]
  },
  {
   "cell_type": "code",
   "execution_count": 82,
   "id": "7cd19991",
   "metadata": {
    "id": "7cd19991"
   },
   "outputs": [
    {
     "data": {
      "text/html": [
       "<div>\n",
       "<style scoped>\n",
       "    .dataframe tbody tr th:only-of-type {\n",
       "        vertical-align: middle;\n",
       "    }\n",
       "\n",
       "    .dataframe tbody tr th {\n",
       "        vertical-align: top;\n",
       "    }\n",
       "\n",
       "    .dataframe thead th {\n",
       "        text-align: right;\n",
       "    }\n",
       "</style>\n",
       "<table border=\"1\" class=\"dataframe\">\n",
       "  <thead>\n",
       "    <tr style=\"text-align: right;\">\n",
       "      <th></th>\n",
       "      <th>User_ID</th>\n",
       "      <th>Product_ID</th>\n",
       "      <th>Gender</th>\n",
       "      <th>Age</th>\n",
       "      <th>Occupation</th>\n",
       "      <th>City_Category</th>\n",
       "      <th>Stay_In_Current_City_Years</th>\n",
       "      <th>Marital_Status</th>\n",
       "      <th>Product_Category_1</th>\n",
       "      <th>Product_Category_2</th>\n",
       "      <th>Product_Category_3</th>\n",
       "      <th>Purchase</th>\n",
       "    </tr>\n",
       "  </thead>\n",
       "  <tbody>\n",
       "    <tr>\n",
       "      <th>0</th>\n",
       "      <td>1000004</td>\n",
       "      <td>P00128942</td>\n",
       "      <td>M</td>\n",
       "      <td>46-50</td>\n",
       "      <td>7</td>\n",
       "      <td>B</td>\n",
       "      <td>2</td>\n",
       "      <td>1</td>\n",
       "      <td>1</td>\n",
       "      <td>11.0</td>\n",
       "      <td>NaN</td>\n",
       "      <td>13143.686523</td>\n",
       "    </tr>\n",
       "    <tr>\n",
       "      <th>1</th>\n",
       "      <td>1000009</td>\n",
       "      <td>P00113442</td>\n",
       "      <td>M</td>\n",
       "      <td>26-35</td>\n",
       "      <td>17</td>\n",
       "      <td>C</td>\n",
       "      <td>0</td>\n",
       "      <td>0</td>\n",
       "      <td>3</td>\n",
       "      <td>5.0</td>\n",
       "      <td>NaN</td>\n",
       "      <td>11424.450195</td>\n",
       "    </tr>\n",
       "    <tr>\n",
       "      <th>2</th>\n",
       "      <td>1000010</td>\n",
       "      <td>P00288442</td>\n",
       "      <td>F</td>\n",
       "      <td>36-45</td>\n",
       "      <td>1</td>\n",
       "      <td>B</td>\n",
       "      <td>4+</td>\n",
       "      <td>1</td>\n",
       "      <td>5</td>\n",
       "      <td>14.0</td>\n",
       "      <td>NaN</td>\n",
       "      <td>6584.332031</td>\n",
       "    </tr>\n",
       "    <tr>\n",
       "      <th>3</th>\n",
       "      <td>1000010</td>\n",
       "      <td>P00145342</td>\n",
       "      <td>F</td>\n",
       "      <td>36-45</td>\n",
       "      <td>1</td>\n",
       "      <td>B</td>\n",
       "      <td>4+</td>\n",
       "      <td>1</td>\n",
       "      <td>4</td>\n",
       "      <td>9.0</td>\n",
       "      <td>NaN</td>\n",
       "      <td>2849.675781</td>\n",
       "    </tr>\n",
       "    <tr>\n",
       "      <th>4</th>\n",
       "      <td>1000011</td>\n",
       "      <td>P00053842</td>\n",
       "      <td>F</td>\n",
       "      <td>26-35</td>\n",
       "      <td>1</td>\n",
       "      <td>C</td>\n",
       "      <td>1</td>\n",
       "      <td>0</td>\n",
       "      <td>4</td>\n",
       "      <td>5.0</td>\n",
       "      <td>12.0</td>\n",
       "      <td>1221.047363</td>\n",
       "    </tr>\n",
       "  </tbody>\n",
       "</table>\n",
       "</div>"
      ],
      "text/plain": [
       "   User_ID Product_ID Gender    Age  Occupation City_Category  \\\n",
       "0  1000004  P00128942      M  46-50           7             B   \n",
       "1  1000009  P00113442      M  26-35          17             C   \n",
       "2  1000010  P00288442      F  36-45           1             B   \n",
       "3  1000010  P00145342      F  36-45           1             B   \n",
       "4  1000011  P00053842      F  26-35           1             C   \n",
       "\n",
       "  Stay_In_Current_City_Years  Marital_Status  Product_Category_1  \\\n",
       "0                          2               1                   1   \n",
       "1                          0               0                   3   \n",
       "2                         4+               1                   5   \n",
       "3                         4+               1                   4   \n",
       "4                          1               0                   4   \n",
       "\n",
       "   Product_Category_2  Product_Category_3      Purchase  \n",
       "0                11.0                 NaN  13143.686523  \n",
       "1                 5.0                 NaN  11424.450195  \n",
       "2                14.0                 NaN   6584.332031  \n",
       "3                 9.0                 NaN   2849.675781  \n",
       "4                 5.0                12.0   1221.047363  "
      ]
     },
     "execution_count": 82,
     "metadata": {},
     "output_type": "execute_result"
    }
   ],
   "source": [
    "x_test.head()"
   ]
  },
  {
   "cell_type": "code",
   "execution_count": 83,
   "id": "0a2c9bd0",
   "metadata": {
    "id": "0a2c9bd0"
   },
   "outputs": [
    {
     "data": {
      "text/plain": [
       "(233599, 12)"
      ]
     },
     "execution_count": 83,
     "metadata": {},
     "output_type": "execute_result"
    }
   ],
   "source": [
    "x_test.shape"
   ]
  },
  {
   "cell_type": "markdown",
   "id": "e85b2195",
   "metadata": {
    "id": "e85b2195"
   },
   "source": [
    "### Store this dataframe into the .csv format"
   ]
  },
  {
   "cell_type": "code",
   "execution_count": 84,
   "id": "3414e50f",
   "metadata": {
    "id": "3414e50f"
   },
   "outputs": [],
   "source": [
    "x_test.to_csv('15412_SUBMIT.csv')"
   ]
  }
 ],
 "metadata": {
  "colab": {
   "collapsed_sections": [
    "54a62887",
    "cd60d683",
    "4ac24e52",
    "edd8c044",
    "378b1c76",
    "71c1c5b2",
    "917eccda",
    "c74395d2",
    "4b406f91",
    "ae9b7d85",
    "c29e8782",
    "5a747f68",
    "f64835a0",
    "21c60b97",
    "a519db00",
    "03056387",
    "20514888",
    "fef3dc1f",
    "48441706",
    "e74804f9",
    "3e1ff9ad",
    "1d784ab5",
    "62da0eff",
    "78572084",
    "95251c0b",
    "fd876932",
    "defb582c",
    "be2e5333",
    "cde37992",
    "50435efd",
    "72313102",
    "89f8acfa",
    "6deb3334",
    "5d534fe6",
    "4a91ecca",
    "1d05f62e",
    "a301a490",
    "538b61fd",
    "e85b2195"
   ],
   "name": "Kashif Moin Decision Tree.ipynb",
   "provenance": []
  },
  "kernelspec": {
   "display_name": "Python 3 (ipykernel)",
   "language": "python",
   "name": "python3"
  },
  "language_info": {
   "codemirror_mode": {
    "name": "ipython",
    "version": 3
   },
   "file_extension": ".py",
   "mimetype": "text/x-python",
   "name": "python",
   "nbconvert_exporter": "python",
   "pygments_lexer": "ipython3",
   "version": "3.9.7"
  }
 },
 "nbformat": 4,
 "nbformat_minor": 5
}
